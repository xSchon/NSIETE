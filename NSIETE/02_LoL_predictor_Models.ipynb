{
 "cells": [
  {
   "cell_type": "markdown",
   "id": "ca738efa-1905-435a-8dd5-384a3849edfc",
   "metadata": {},
   "source": [
    "### Run notebook 01_LoL_predictor_EDA_preparation before running this one, as it prepares the data!"
   ]
  },
  {
   "cell_type": "code",
   "execution_count": 1,
   "id": "c23e31d8-ae7d-4e86-ab03-a80b422dbceb",
   "metadata": {},
   "outputs": [],
   "source": [
    "import pandas as pd\n",
    "from sklearn.model_selection import train_test_split\n",
    "import torch\n",
    "import torch.nn as nn\n",
    "import yaml"
   ]
  },
  {
   "cell_type": "code",
   "execution_count": 2,
   "id": "3c1aad95",
   "metadata": {},
   "outputs": [
    {
     "name": "stderr",
     "output_type": "stream",
     "text": [
      "Failed to detect the name of this notebook, you can set it manually with the WANDB_NOTEBOOK_NAME environment variable to enable code saving.\n",
      "\u001b[34m\u001b[1mwandb\u001b[0m: Logging into wandb.ai. (Learn how to deploy a W&B server locally: https://wandb.me/wandb-server)\n",
      "\u001b[34m\u001b[1mwandb\u001b[0m: You can find your API key in your browser here: https://wandb.ai/authorize\n",
      "\u001b[34m\u001b[1mwandb\u001b[0m: Paste an API key from your profile and hit enter, or press ctrl+c to quit:\u001b[34m\u001b[1mwandb\u001b[0m: Appending key for api.wandb.ai to your netrc file: /root/.netrc\n",
      "\u001b[34m\u001b[1mwandb\u001b[0m: \u001b[32m\u001b[41mERROR\u001b[0m Unable to read ~/.netrc\n",
      "\u001b[34m\u001b[1mwandb\u001b[0m: Currently logged in as: \u001b[33madamzak\u001b[0m. Use \u001b[1m`wandb login --relogin`\u001b[0m to force relogin\n"
     ]
    },
    {
     "data": {
      "application/vnd.jupyter.widget-view+json": {
       "model_id": "be86359e56e74033b77500e70b641331",
       "version_major": 2,
       "version_minor": 0
      },
      "text/plain": [
       "VBox(children=(Label(value='Waiting for wandb.init()...\\r'), FloatProgress(value=0.016669507949988352, max=1.0…"
      ]
     },
     "metadata": {},
     "output_type": "display_data"
    },
    {
     "name": "stderr",
     "output_type": "stream",
     "text": [
      "wandb: ERROR Failed to sample metric: Not Supported\n"
     ]
    },
    {
     "data": {
      "text/html": [
       "wandb version 0.14.0 is available!  To upgrade, please run:\n",
       " $ pip install wandb --upgrade"
      ],
      "text/plain": [
       "<IPython.core.display.HTML object>"
      ]
     },
     "metadata": {},
     "output_type": "display_data"
    },
    {
     "data": {
      "text/html": [
       "Tracking run with wandb version 0.13.7"
      ],
      "text/plain": [
       "<IPython.core.display.HTML object>"
      ]
     },
     "metadata": {},
     "output_type": "display_data"
    },
    {
     "data": {
      "text/html": [
       "Run data is saved locally in <code>/workspace/lol-win-predictor/NSIETE/wandb/run-20230328_043113-j216yocp</code>"
      ],
      "text/plain": [
       "<IPython.core.display.HTML object>"
      ]
     },
     "metadata": {},
     "output_type": "display_data"
    },
    {
     "data": {
      "text/html": [
       "Syncing run <strong><a href=\"https://wandb.ai/adamzak/lol-predictor/runs/j216yocp\" target=\"_blank\">skilled-dream-9</a></strong> to <a href=\"https://wandb.ai/adamzak/lol-predictor\" target=\"_blank\">Weights & Biases</a> (<a href=\"https://wandb.me/run\" target=\"_blank\">docs</a>)<br/>"
      ],
      "text/plain": [
       "<IPython.core.display.HTML object>"
      ]
     },
     "metadata": {},
     "output_type": "display_data"
    },
    {
     "data": {
      "text/html": [
       "<button onClick=\"this.nextSibling.style.display='block';this.style.display='none';\">Display W&B run</button><iframe src=\"https://wandb.ai/adamzak/lol-predictor/runs/j216yocp?jupyter=true\" style=\"border:none;width:100%;height:420px;display:none;\"></iframe>"
      ],
      "text/plain": [
       "<wandb.sdk.wandb_run.Run at 0x7ff6462a4130>"
      ]
     },
     "execution_count": 2,
     "metadata": {},
     "output_type": "execute_result"
    }
   ],
   "source": [
    "with open('config.yml', mode=\"r\") as f:\n",
    "    config = yaml.safe_load(f)\n",
    "\n",
    "import wandb\n",
    "wandb.login()\n",
    "\n",
    "wandb.init(\n",
    "        project=\"lol-predictor\",\n",
    "        entity=\"adamzak\",\n",
    "        config=config['train'],\n",
    "        group='pytorch',\n",
    "        mode='online'\n",
    "    )"
   ]
  },
  {
   "cell_type": "code",
   "execution_count": 3,
   "id": "511ae9a3-41a8-4a37-be02-8febf39be1c0",
   "metadata": {},
   "outputs": [
    {
     "name": "stderr",
     "output_type": "stream",
     "text": [
      "wandb: ERROR Failed to serialize metric: division by zero\n"
     ]
    }
   ],
   "source": [
    "pd.set_option('display.max_columns', 500)\n",
    "PREPROCESSED_PATH = '../data/processed_high_diamond.csv'\n",
    "\n",
    "data = pd.read_csv(PREPROCESSED_PATH)\n",
    "device = torch.device(\"cuda:0\" if torch.cuda.is_available() else \"cpu\")"
   ]
  },
  {
   "cell_type": "code",
   "execution_count": 4,
   "id": "a902d5cb-49e3-42a9-a25e-3adfe2ab1d5a",
   "metadata": {},
   "outputs": [],
   "source": [
    "data.drop(columns={\"gameId\"}, inplace=True)"
   ]
  },
  {
   "cell_type": "code",
   "execution_count": 5,
   "id": "60f6f5eb-65ae-499f-852f-0c60c061e1fe",
   "metadata": {},
   "outputs": [],
   "source": [
    "# split data to train and test by 70/30 ratio\n",
    "train, test = train_test_split(data, test_size=0.3)\n",
    "\n",
    "# further split test part to 50/50 with validation - final split will be 70/15/15\n",
    "test, validation = train_test_split(test, test_size=0.5)"
   ]
  },
  {
   "cell_type": "code",
   "execution_count": 6,
   "id": "9a944f3f-9f54-4158-9b90-b0b50e2dcc79",
   "metadata": {},
   "outputs": [
    {
     "data": {
      "text/plain": [
       "(6535, 17)"
      ]
     },
     "execution_count": 6,
     "metadata": {},
     "output_type": "execute_result"
    }
   ],
   "source": [
    "train.shape"
   ]
  },
  {
   "cell_type": "code",
   "execution_count": 7,
   "id": "69c99e22-7275-4ca4-8a85-ce7fdcd511ce",
   "metadata": {},
   "outputs": [
    {
     "data": {
      "text/plain": [
       "(1401, 17)"
      ]
     },
     "execution_count": 7,
     "metadata": {},
     "output_type": "execute_result"
    }
   ],
   "source": [
    "test.shape"
   ]
  },
  {
   "cell_type": "code",
   "execution_count": 8,
   "id": "e8e77839-35c6-4be0-8d8c-84432121d4d3",
   "metadata": {},
   "outputs": [
    {
     "data": {
      "text/plain": [
       "(1401, 17)"
      ]
     },
     "execution_count": 8,
     "metadata": {},
     "output_type": "execute_result"
    }
   ],
   "source": [
    "validation.shape"
   ]
  },
  {
   "cell_type": "code",
   "execution_count": 9,
   "id": "b2c2bb66-4c9a-44de-b878-45af8b4651fb",
   "metadata": {},
   "outputs": [],
   "source": [
    "trainX = train.drop(columns={\"blueWins\"})\n",
    "trainy = train.blueWins"
   ]
  },
  {
   "cell_type": "code",
   "execution_count": 10,
   "id": "fa0dff97-1432-4434-b625-f8961a431019",
   "metadata": {},
   "outputs": [],
   "source": [
    "testX = test.drop(columns={\"blueWins\"})\n",
    "testy = test.blueWins"
   ]
  },
  {
   "cell_type": "code",
   "execution_count": 11,
   "id": "0bc5bf92-6e7f-4c8b-9306-c3e827c0882c",
   "metadata": {},
   "outputs": [],
   "source": [
    "nHidden = config['train']['inputNeurons']\n",
    "\n",
    "model = nn.Sequential(\n",
    "    nn.Linear(16, nHidden[0]),\n",
    "    nn.ReLU(),\n",
    "    nn.Linear(nHidden[0], nHidden[1]),\n",
    "    nn.ReLU(),\n",
    "    nn.Linear(nHidden[1], nHidden[2]),\n",
    "    nn.ReLU(),\n",
    "    nn.Linear(nHidden[2], nHidden[3]),\n",
    "    nn.ReLU(),\n",
    "    nn.Linear(nHidden[3], 1),\n",
    "    nn.Sigmoid()\n",
    "    # Softmax\n",
    ")"
   ]
  },
  {
   "cell_type": "code",
   "execution_count": 12,
   "id": "ec34e490-6a30-48ed-8e62-cbc9acc6d183",
   "metadata": {},
   "outputs": [],
   "source": [
    "trainX = torch.tensor(trainX.values)\n",
    "testX = torch.tensor(testX.values)"
   ]
  },
  {
   "cell_type": "code",
   "execution_count": 13,
   "id": "dc19e67d-a337-4ece-8176-481b875badee",
   "metadata": {},
   "outputs": [],
   "source": [
    "trainy = torch.tensor(trainy.values)\n",
    "testy = torch.tensor(testy.values)\n",
    "\n",
    "# https://stackoverflow.com/a/60440460/12342419\n",
    "trainy = trainy.type(torch.LongTensor)\n",
    "testy = testy.type(torch.LongTensor)"
   ]
  },
  {
   "cell_type": "code",
   "execution_count": 14,
   "id": "28f526be-de12-4705-84b2-08872ae93997",
   "metadata": {},
   "outputs": [],
   "source": [
    "def compute_loss(y_hat, y):\n",
    "    return nn.BCELoss()(y_hat, y)"
   ]
  },
  {
   "cell_type": "code",
   "execution_count": 15,
   "id": "3b9ea774",
   "metadata": {},
   "outputs": [],
   "source": [
    "# Calculate accuracy (a classification metric)\n",
    "def accuracy_fn(y_true, y_pred):\n",
    "    correct = torch.eq(y_true, y_pred).sum().item() # torch.eq() calculates where two tensors are equal\n",
    "    acc = (correct / len(y_pred)) * 100\n",
    "    return acc"
   ]
  },
  {
   "cell_type": "code",
   "execution_count": 16,
   "id": "36ff4e17-a3d1-4932-9407-0d27a6cc27c3",
   "metadata": {},
   "outputs": [],
   "source": [
    "optimizer = torch.optim.Adam(model.parameters(), lr=0.001)"
   ]
  },
  {
   "cell_type": "code",
   "execution_count": 17,
   "id": "ad9cbe58-f854-4034-a37d-5cab41ef2937",
   "metadata": {},
   "outputs": [],
   "source": [
    "trainX = trainX.to(torch.float32).to(device)\n",
    "testX = testX.to(torch.float32).to(device)\n",
    "trainy = trainy.to(torch.float32).to(device)\n",
    "testy = testy.to(torch.float32).to(device)"
   ]
  },
  {
   "cell_type": "code",
   "execution_count": 18,
   "id": "7dc6fc93-50ac-4b00-b4e0-b7d0de2e93c3",
   "metadata": {},
   "outputs": [],
   "source": [
    "trainy = trainy.reshape((trainy.shape[0], 1))"
   ]
  },
  {
   "cell_type": "code",
   "execution_count": 19,
   "id": "8dbb63ea-abe3-4f01-907a-52b9da83fd13",
   "metadata": {},
   "outputs": [
    {
     "data": {
      "text/plain": [
       "Sequential(\n",
       "  (0): Linear(in_features=16, out_features=256, bias=True)\n",
       "  (1): ReLU()\n",
       "  (2): Linear(in_features=256, out_features=128, bias=True)\n",
       "  (3): ReLU()\n",
       "  (4): Linear(in_features=128, out_features=64, bias=True)\n",
       "  (5): ReLU()\n",
       "  (6): Linear(in_features=64, out_features=32, bias=True)\n",
       "  (7): ReLU()\n",
       "  (8): Linear(in_features=32, out_features=1, bias=True)\n",
       "  (9): Sigmoid()\n",
       ")"
      ]
     },
     "execution_count": 19,
     "metadata": {},
     "output_type": "execute_result"
    }
   ],
   "source": [
    "model"
   ]
  },
  {
   "cell_type": "code",
   "execution_count": 20,
   "id": "130a06ff",
   "metadata": {},
   "outputs": [
    {
     "name": "stdout",
     "output_type": "stream",
     "text": [
      "cuda:0\n"
     ]
    }
   ],
   "source": [
    "model.to(device)\n",
    "print(device)"
   ]
  },
  {
   "cell_type": "code",
   "execution_count": 21,
   "id": "b2683360",
   "metadata": {},
   "outputs": [
    {
     "data": {
      "text/plain": [
       "True"
      ]
     },
     "execution_count": 21,
     "metadata": {},
     "output_type": "execute_result"
    }
   ],
   "source": [
    "torch.cuda.is_available()"
   ]
  },
  {
   "cell_type": "code",
   "execution_count": 22,
   "id": "bbbf6643",
   "metadata": {},
   "outputs": [
    {
     "data": {
      "text/plain": [
       "'NVIDIA GeForce GTX 1050'"
      ]
     },
     "execution_count": 22,
     "metadata": {},
     "output_type": "execute_result"
    }
   ],
   "source": [
    "torch.cuda.is_available()\n",
    "torch.cuda.get_device_name(0)"
   ]
  },
  {
   "cell_type": "code",
   "execution_count": 23,
   "id": "a42c8922-f05b-46f9-8240-1f0dd506ee9c",
   "metadata": {},
   "outputs": [
    {
     "name": "stdout",
     "output_type": "stream",
     "text": [
      "0\n",
      "50.374904361132366\n",
      "1000\n",
      "76.81713848508033\n",
      "2000\n",
      "79.66335118592195\n",
      "3000\n",
      "78.71461361897475\n",
      "4000\n",
      "81.49961744452946\n",
      "5000\n",
      "83.02983932670237\n",
      "6000\n",
      "84.10099464422342\n",
      "7000\n",
      "84.10099464422342\n",
      "8000\n",
      "85.75363427697016\n",
      "9000\n",
      "79.34200459066565\n",
      "10000\n",
      "88.61514919663351\n",
      "11000\n",
      "87.28385615914308\n",
      "12000\n",
      "88.01836266258609\n",
      "13000\n",
      "90.83397092578423\n",
      "14000\n",
      "90.87987758224942\n",
      "15000\n",
      "92.19586840091813\n",
      "16000\n",
      "86.85539403213465\n",
      "17000\n",
      "94.123947972456\n",
      "18000\n",
      "94.95026778882938\n",
      "19000\n",
      "95.30221882172914\n",
      "20000\n",
      "95.31752104055087\n",
      "21000\n",
      "94.98087222647284\n",
      "22000\n",
      "97.04667176740628\n",
      "23000\n",
      "97.38332058148431\n",
      "24000\n",
      "96.40397857689365\n",
      "25000\n",
      "97.13848508033665\n",
      "26000\n",
      "98.74521805661821\n",
      "27000\n",
      "98.8982402448355\n",
      "28000\n",
      "99.12777352716144\n",
      "29000\n",
      "99.32670237184392\n",
      "30000\n",
      "99.02065799540934\n",
      "31000\n",
      "70.3442999234889\n",
      "32000\n",
      "98.50038255547055\n",
      "33000\n",
      "99.60214231063505\n",
      "34000\n",
      "99.80107115531752\n",
      "35000\n",
      "99.31140015302219\n",
      "36000\n",
      "95.24100994644223\n",
      "37000\n",
      "99.40321346595256\n",
      "38000\n",
      "99.98469778117827\n",
      "39000\n",
      "100.0\n",
      "40000\n",
      "100.0\n",
      "41000\n",
      "100.0\n",
      "42000\n",
      "100.0\n",
      "43000\n",
      "100.0\n",
      "44000\n",
      "100.0\n",
      "45000\n",
      "100.0\n",
      "46000\n",
      "100.0\n",
      "47000\n",
      "100.0\n",
      "48000\n",
      "100.0\n",
      "49000\n",
      "100.0\n",
      "50000\n",
      "100.0\n",
      "51000\n",
      "100.0\n",
      "52000\n",
      "100.0\n",
      "53000\n",
      "100.0\n",
      "54000\n",
      "100.0\n",
      "55000\n",
      "100.0\n",
      "56000\n",
      "100.0\n",
      "57000\n",
      "100.0\n",
      "58000\n",
      "100.0\n",
      "59000\n",
      "100.0\n",
      "60000\n",
      "77.55164498852334\n",
      "61000\n",
      "83.13695485845447\n",
      "62000\n",
      "87.62050497322112\n",
      "63000\n",
      "90.66564651874522\n",
      "64000\n",
      "92.82325937260903\n",
      "65000\n",
      "94.29227237949502\n",
      "66000\n",
      "95.51644988523336\n",
      "67000\n",
      "96.2203519510329\n",
      "68000\n",
      "96.8477429227238\n",
      "69000\n",
      "97.44452945677124\n",
      "70000\n",
      "98.07192042846212\n",
      "71000\n",
      "98.45447589900536\n",
      "72000\n",
      "98.66870696250956\n",
      "73000\n",
      "98.94414690130068\n",
      "74000\n",
      "99.265493496557\n",
      "75000\n",
      "99.21958684009181\n",
      "76000\n",
      "99.51032899770466\n",
      "77000\n",
      "99.28079571537873\n",
      "78000\n",
      "99.47972456006121\n",
      "79000\n",
      "99.6327467482785\n",
      "80000\n",
      "99.66335118592195\n",
      "81000\n",
      "99.72456006120888\n",
      "82000\n",
      "82.37184391736801\n",
      "83000\n",
      "89.96174445294568\n",
      "84000\n",
      "93.92501912777352\n",
      "85000\n",
      "95.65416985462892\n",
      "86000\n",
      "65.4628921193573\n",
      "87000\n",
      "71.62968630451415\n",
      "88000\n",
      "75.2716143840857\n",
      "89000\n",
      "77.10788064269319\n",
      "90000\n",
      "79.08186687069625\n",
      "91000\n",
      "79.96939556235654\n",
      "92000\n",
      "80.9946442234124\n",
      "93000\n",
      "72.63963274674829\n",
      "94000\n",
      "76.0061208875287\n",
      "95000\n",
      "81.27008416220352\n",
      "96000\n",
      "82.87681713848508\n",
      "97000\n",
      "76.60290742157613\n",
      "98000\n",
      "91.04820198928844\n",
      "99000\n",
      "91.2318286151492\n",
      "tensor(0.2136, device='cuda:0', grad_fn=<BinaryCrossEntropyBackward0>)\n"
     ]
    }
   ],
   "source": [
    "num_epochs = config['train']['epochs']\n",
    "\n",
    "for n in range(num_epochs):\n",
    "    model.train()\n",
    "    y_pred = model(trainX)\n",
    "    loss = compute_loss(y_pred, trainy)\n",
    "    \n",
    "    if n % (num_epochs / 100) == 0:\n",
    "        print(n)\n",
    "        #print(y_pred)\n",
    "        print(accuracy_fn(y_true=trainy, y_pred=torch.round(y_pred)))\n",
    "        accuracy = accuracy_fn(y_true=trainy, y_pred=torch.round(y_pred))\n",
    "        wandb.log({'epoch': n, 'accuracy': accuracy, 'loss': loss})\n",
    "\n",
    "    optimizer.zero_grad()\n",
    "    loss.backward()\n",
    "    #loss.backward(retain_graph=False)\n",
    "    optimizer.step()\n",
    "print(loss)"
   ]
  },
  {
   "cell_type": "code",
   "execution_count": 24,
   "id": "8a29b2fc-a82d-43d8-a8b4-333dbae7e68c",
   "metadata": {},
   "outputs": [
    {
     "data": {
      "text/plain": [
       "torch.Size([6535, 1])"
      ]
     },
     "execution_count": 24,
     "metadata": {},
     "output_type": "execute_result"
    }
   ],
   "source": [
    "y_pred.shape"
   ]
  },
  {
   "cell_type": "code",
   "execution_count": 25,
   "id": "b29191f7-58ca-45b9-b55b-b706daf67c8a",
   "metadata": {},
   "outputs": [
    {
     "data": {
      "text/plain": [
       "tensor([[0.],\n",
       "        [0.],\n",
       "        [0.],\n",
       "        [1.],\n",
       "        [0.],\n",
       "        [0.],\n",
       "        [0.],\n",
       "        [0.],\n",
       "        [0.],\n",
       "        [1.]], device='cuda:0', grad_fn=<RoundBackward0>)"
      ]
     },
     "execution_count": 25,
     "metadata": {},
     "output_type": "execute_result"
    }
   ],
   "source": [
    "torch.round(y_pred[:10])"
   ]
  },
  {
   "cell_type": "code",
   "execution_count": 26,
   "id": "3540c527",
   "metadata": {},
   "outputs": [
    {
     "data": {
      "text/plain": [
       "tensor([0., 0., 1., 0., 0., 1., 0., 1., 1., 0.], device='cuda:0')"
      ]
     },
     "execution_count": 26,
     "metadata": {},
     "output_type": "execute_result"
    }
   ],
   "source": [
    "testy[:10]"
   ]
  },
  {
   "cell_type": "code",
   "execution_count": 27,
   "id": "d76849d5-acad-4a2d-b669-ad2b0e7a9e50",
   "metadata": {},
   "outputs": [],
   "source": [
    "def predict(model, test_loader):\n",
    "    all_preds = []\n",
    "    all_preds_raw = []\n",
    "    all_labels = []\n",
    "\n",
    "    for batch in test_loader:\n",
    "        batch.x = torch.tensor(batch.x)\n",
    "        batch.x = batch.x.reshape((-1, *batch.x.shape[2:]))\n",
    "        batch.to(device)  \n",
    "        pred = model(torch.tensor(batch.x).float(), \n",
    "                        #batch.edge_attr.float(),\n",
    "                        batch.edge_index, \n",
    "                        batch.batch) \n",
    "\n",
    "        all_preds.append(np.argmax(pred.cpu().detach().numpy(), axis=1))\n",
    "        all_preds_raw.append(torch.sigmoid(pred).cpu().detach().numpy())\n",
    "        all_labels.append(batch.y.cpu().detach().numpy())\n",
    "    \n",
    "    all_preds = np.concatenate(all_preds).ravel()\n",
    "    all_labels = np.concatenate(all_labels).ravel()\n",
    "    return all_preds, all_preds_raw, all_labels"
   ]
  },
  {
   "cell_type": "code",
   "execution_count": 28,
   "id": "bd7c909a-20b0-4b97-bb96-c12903ee9a4f",
   "metadata": {},
   "outputs": [
    {
     "data": {
      "text/plain": [
       "tensor([0., 1., 0., 0., 1., 1., 1., 1., 0., 0., 0., 0., 1., 1., 0., 1.],\n",
       "       device='cuda:0')"
      ]
     },
     "execution_count": 28,
     "metadata": {},
     "output_type": "execute_result"
    }
   ],
   "source": [
    "torch.round(testX[0])"
   ]
  },
  {
   "cell_type": "code",
   "execution_count": 29,
   "id": "d8a6833c-aee2-44ad-8d76-683684ab859b",
   "metadata": {},
   "outputs": [
    {
     "data": {
      "text/plain": [
       "tensor([0., 0., 1.,  ..., 0., 0., 0.], device='cuda:0')"
      ]
     },
     "execution_count": 29,
     "metadata": {},
     "output_type": "execute_result"
    }
   ],
   "source": [
    "testy"
   ]
  },
  {
   "cell_type": "code",
   "execution_count": 30,
   "id": "429d8819-2f43-48da-825a-abd2403286e3",
   "metadata": {},
   "outputs": [
    {
     "data": {
      "text/plain": [
       "1401"
      ]
     },
     "execution_count": 30,
     "metadata": {},
     "output_type": "execute_result"
    }
   ],
   "source": [
    "len(model(testX))"
   ]
  },
  {
   "cell_type": "code",
   "execution_count": 31,
   "id": "a7189fb7",
   "metadata": {},
   "outputs": [
    {
     "data": {
      "text/plain": [
       "tensor([[1.0000e+00],\n",
       "        [2.3166e-24],\n",
       "        [4.9675e-01],\n",
       "        [4.9675e-01],\n",
       "        [4.9675e-01],\n",
       "        [1.2295e-01],\n",
       "        [4.8485e-01],\n",
       "        [1.6043e-15],\n",
       "        [5.0273e-01],\n",
       "        [4.9675e-01]], device='cuda:0', grad_fn=<SliceBackward0>)"
      ]
     },
     "execution_count": 31,
     "metadata": {},
     "output_type": "execute_result"
    }
   ],
   "source": [
    "model(testX)[0:10]"
   ]
  },
  {
   "cell_type": "code",
   "execution_count": 32,
   "id": "fbbaae83",
   "metadata": {},
   "outputs": [
    {
     "data": {
      "text/plain": [
       "tensor([0., 0., 1., 0., 0., 1., 0., 1., 1., 0.], device='cuda:0')"
      ]
     },
     "execution_count": 32,
     "metadata": {},
     "output_type": "execute_result"
    }
   ],
   "source": [
    "testy[:10]"
   ]
  },
  {
   "cell_type": "code",
   "execution_count": 33,
   "id": "8b0401c1-906e-4f20-9e97-cdead49cf94c",
   "metadata": {},
   "outputs": [
    {
     "name": "stdout",
     "output_type": "stream",
     "text": [
      "tensor([[3.8092e-06],\n",
      "        [1.0000e+00],\n",
      "        [1.5391e-02],\n",
      "        [3.0884e-01],\n",
      "        [4.9675e-01],\n",
      "        [1.5088e-01],\n",
      "        [4.9675e-01],\n",
      "        [9.9898e-01],\n",
      "        [1.0000e+00],\n",
      "        [0.0000e+00]], device='cuda:0', grad_fn=<SigmoidBackward0>)\n",
      "tensor([1., 1., 1., 0., 0., 0., 0., 0., 1., 1.], device='cuda:0')\n"
     ]
    }
   ],
   "source": [
    "lol = model(testX[20:30])\n",
    "print(lol)\n",
    "#print(lol.flatten())\n",
    "print(testy[20:30])"
   ]
  },
  {
   "cell_type": "code",
   "execution_count": 34,
   "id": "a2319f34-1917-4fc9-af8a-2f488781bdcb",
   "metadata": {},
   "outputs": [
    {
     "data": {
      "text/plain": [
       "tensor([0., 0., 1., 0., 0., 1., 0., 1., 1., 0.], device='cuda:0')"
      ]
     },
     "execution_count": 34,
     "metadata": {},
     "output_type": "execute_result"
    }
   ],
   "source": [
    "testy[:10]"
   ]
  },
  {
   "cell_type": "code",
   "execution_count": 35,
   "id": "9f0d4848-6a5c-4c72-bf63-5923855e9161",
   "metadata": {},
   "outputs": [
    {
     "ename": "AttributeError",
     "evalue": "'str' object has no attribute 'x'",
     "output_type": "error",
     "traceback": [
      "\u001b[0;31m---------------------------------------------------------------------------\u001b[0m",
      "\u001b[0;31mAttributeError\u001b[0m                            Traceback (most recent call last)",
      "\u001b[1;32m/workspace/lol-win-predictor/NSIETE/02_LoL_predictor_Models.ipynb Cell 36\u001b[0m in \u001b[0;36m<cell line: 1>\u001b[0;34m()\u001b[0m\n\u001b[0;32m----> <a href='vscode-notebook-cell://dev-container%2B7b22686f737450617468223a222f686f6d652f6164616d2f4465736b746f702f464949542f385f73656d65737465722f4e53494554452f6c6f6c2d77696e2d707265646963746f72222c22636f6e66696746696c65223a7b22246d6964223a312c22667350617468223a222f686f6d652f6164616d2f4465736b746f702f464949542f385f73656d65737465722f4e53494554452f6c6f6c2d77696e2d707265646963746f722f2e646576636f6e7461696e65722f646576636f6e7461696e65722e6a736f6e222c2265787465726e616c223a2266696c653a2f2f2f686f6d652f6164616d2f4465736b746f702f464949542f385f73656d65737465722f4e53494554452f6c6f6c2d77696e2d707265646963746f722f2e646576636f6e7461696e65722f646576636f6e7461696e65722e6a736f6e222c2270617468223a222f686f6d652f6164616d2f4465736b746f702f464949542f385f73656d65737465722f4e53494554452f6c6f6c2d77696e2d707265646963746f722f2e646576636f6e7461696e65722f646576636f6e7461696e65722e6a736f6e222c22736368656d65223a2266696c65227d7d/workspace/lol-win-predictor/NSIETE/02_LoL_predictor_Models.ipynb#X50sdnNjb2RlLXJlbW90ZQ%3D%3D?line=0'>1</a>\u001b[0m predict(model, test)\n",
      "\u001b[1;32m/workspace/lol-win-predictor/NSIETE/02_LoL_predictor_Models.ipynb Cell 36\u001b[0m in \u001b[0;36mpredict\u001b[0;34m(model, test_loader)\u001b[0m\n\u001b[1;32m      <a href='vscode-notebook-cell://dev-container%2B7b22686f737450617468223a222f686f6d652f6164616d2f4465736b746f702f464949542f385f73656d65737465722f4e53494554452f6c6f6c2d77696e2d707265646963746f72222c22636f6e66696746696c65223a7b22246d6964223a312c22667350617468223a222f686f6d652f6164616d2f4465736b746f702f464949542f385f73656d65737465722f4e53494554452f6c6f6c2d77696e2d707265646963746f722f2e646576636f6e7461696e65722f646576636f6e7461696e65722e6a736f6e222c2265787465726e616c223a2266696c653a2f2f2f686f6d652f6164616d2f4465736b746f702f464949542f385f73656d65737465722f4e53494554452f6c6f6c2d77696e2d707265646963746f722f2e646576636f6e7461696e65722f646576636f6e7461696e65722e6a736f6e222c2270617468223a222f686f6d652f6164616d2f4465736b746f702f464949542f385f73656d65737465722f4e53494554452f6c6f6c2d77696e2d707265646963746f722f2e646576636f6e7461696e65722f646576636f6e7461696e65722e6a736f6e222c22736368656d65223a2266696c65227d7d/workspace/lol-win-predictor/NSIETE/02_LoL_predictor_Models.ipynb#X50sdnNjb2RlLXJlbW90ZQ%3D%3D?line=3'>4</a>\u001b[0m all_labels \u001b[39m=\u001b[39m []\n\u001b[1;32m      <a href='vscode-notebook-cell://dev-container%2B7b22686f737450617468223a222f686f6d652f6164616d2f4465736b746f702f464949542f385f73656d65737465722f4e53494554452f6c6f6c2d77696e2d707265646963746f72222c22636f6e66696746696c65223a7b22246d6964223a312c22667350617468223a222f686f6d652f6164616d2f4465736b746f702f464949542f385f73656d65737465722f4e53494554452f6c6f6c2d77696e2d707265646963746f722f2e646576636f6e7461696e65722f646576636f6e7461696e65722e6a736f6e222c2265787465726e616c223a2266696c653a2f2f2f686f6d652f6164616d2f4465736b746f702f464949542f385f73656d65737465722f4e53494554452f6c6f6c2d77696e2d707265646963746f722f2e646576636f6e7461696e65722f646576636f6e7461696e65722e6a736f6e222c2270617468223a222f686f6d652f6164616d2f4465736b746f702f464949542f385f73656d65737465722f4e53494554452f6c6f6c2d77696e2d707265646963746f722f2e646576636f6e7461696e65722f646576636f6e7461696e65722e6a736f6e222c22736368656d65223a2266696c65227d7d/workspace/lol-win-predictor/NSIETE/02_LoL_predictor_Models.ipynb#X50sdnNjb2RlLXJlbW90ZQ%3D%3D?line=5'>6</a>\u001b[0m \u001b[39mfor\u001b[39;00m batch \u001b[39min\u001b[39;00m test_loader:\n\u001b[0;32m----> <a href='vscode-notebook-cell://dev-container%2B7b22686f737450617468223a222f686f6d652f6164616d2f4465736b746f702f464949542f385f73656d65737465722f4e53494554452f6c6f6c2d77696e2d707265646963746f72222c22636f6e66696746696c65223a7b22246d6964223a312c22667350617468223a222f686f6d652f6164616d2f4465736b746f702f464949542f385f73656d65737465722f4e53494554452f6c6f6c2d77696e2d707265646963746f722f2e646576636f6e7461696e65722f646576636f6e7461696e65722e6a736f6e222c2265787465726e616c223a2266696c653a2f2f2f686f6d652f6164616d2f4465736b746f702f464949542f385f73656d65737465722f4e53494554452f6c6f6c2d77696e2d707265646963746f722f2e646576636f6e7461696e65722f646576636f6e7461696e65722e6a736f6e222c2270617468223a222f686f6d652f6164616d2f4465736b746f702f464949542f385f73656d65737465722f4e53494554452f6c6f6c2d77696e2d707265646963746f722f2e646576636f6e7461696e65722f646576636f6e7461696e65722e6a736f6e222c22736368656d65223a2266696c65227d7d/workspace/lol-win-predictor/NSIETE/02_LoL_predictor_Models.ipynb#X50sdnNjb2RlLXJlbW90ZQ%3D%3D?line=6'>7</a>\u001b[0m     batch\u001b[39m.\u001b[39mx \u001b[39m=\u001b[39m torch\u001b[39m.\u001b[39mtensor(batch\u001b[39m.\u001b[39;49mx)\n\u001b[1;32m      <a href='vscode-notebook-cell://dev-container%2B7b22686f737450617468223a222f686f6d652f6164616d2f4465736b746f702f464949542f385f73656d65737465722f4e53494554452f6c6f6c2d77696e2d707265646963746f72222c22636f6e66696746696c65223a7b22246d6964223a312c22667350617468223a222f686f6d652f6164616d2f4465736b746f702f464949542f385f73656d65737465722f4e53494554452f6c6f6c2d77696e2d707265646963746f722f2e646576636f6e7461696e65722f646576636f6e7461696e65722e6a736f6e222c2265787465726e616c223a2266696c653a2f2f2f686f6d652f6164616d2f4465736b746f702f464949542f385f73656d65737465722f4e53494554452f6c6f6c2d77696e2d707265646963746f722f2e646576636f6e7461696e65722f646576636f6e7461696e65722e6a736f6e222c2270617468223a222f686f6d652f6164616d2f4465736b746f702f464949542f385f73656d65737465722f4e53494554452f6c6f6c2d77696e2d707265646963746f722f2e646576636f6e7461696e65722f646576636f6e7461696e65722e6a736f6e222c22736368656d65223a2266696c65227d7d/workspace/lol-win-predictor/NSIETE/02_LoL_predictor_Models.ipynb#X50sdnNjb2RlLXJlbW90ZQ%3D%3D?line=7'>8</a>\u001b[0m     batch\u001b[39m.\u001b[39mx \u001b[39m=\u001b[39m batch\u001b[39m.\u001b[39mx\u001b[39m.\u001b[39mreshape((\u001b[39m-\u001b[39m\u001b[39m1\u001b[39m, \u001b[39m*\u001b[39mbatch\u001b[39m.\u001b[39mx\u001b[39m.\u001b[39mshape[\u001b[39m2\u001b[39m:]))\n\u001b[1;32m      <a href='vscode-notebook-cell://dev-container%2B7b22686f737450617468223a222f686f6d652f6164616d2f4465736b746f702f464949542f385f73656d65737465722f4e53494554452f6c6f6c2d77696e2d707265646963746f72222c22636f6e66696746696c65223a7b22246d6964223a312c22667350617468223a222f686f6d652f6164616d2f4465736b746f702f464949542f385f73656d65737465722f4e53494554452f6c6f6c2d77696e2d707265646963746f722f2e646576636f6e7461696e65722f646576636f6e7461696e65722e6a736f6e222c2265787465726e616c223a2266696c653a2f2f2f686f6d652f6164616d2f4465736b746f702f464949542f385f73656d65737465722f4e53494554452f6c6f6c2d77696e2d707265646963746f722f2e646576636f6e7461696e65722f646576636f6e7461696e65722e6a736f6e222c2270617468223a222f686f6d652f6164616d2f4465736b746f702f464949542f385f73656d65737465722f4e53494554452f6c6f6c2d77696e2d707265646963746f722f2e646576636f6e7461696e65722f646576636f6e7461696e65722e6a736f6e222c22736368656d65223a2266696c65227d7d/workspace/lol-win-predictor/NSIETE/02_LoL_predictor_Models.ipynb#X50sdnNjb2RlLXJlbW90ZQ%3D%3D?line=8'>9</a>\u001b[0m     batch\u001b[39m.\u001b[39mto(device)  \n",
      "\u001b[0;31mAttributeError\u001b[0m: 'str' object has no attribute 'x'"
     ]
    }
   ],
   "source": [
    "predict(model, test)"
   ]
  },
  {
   "attachments": {},
   "cell_type": "markdown",
   "id": "52e45216-6aca-460c-8ecc-b43daf9b1843",
   "metadata": {},
   "source": [
    "## Tensorflow implementation"
   ]
  },
  {
   "cell_type": "code",
   "execution_count": null,
   "id": "a10d1a6e-2753-479d-bcdb-c0fed4dbfe0e",
   "metadata": {},
   "outputs": [],
   "source": [
    "import pandas as pd\n",
    "import matplotlib\n",
    "from matplotlib import pyplot as plt\n",
    "import seaborn as sns\n",
    "import tempfile\n",
    "import os"
   ]
  },
  {
   "cell_type": "code",
   "execution_count": 37,
   "id": "d1c06a36-f3dd-4343-a77c-0534431d5abe",
   "metadata": {},
   "outputs": [],
   "source": [
    "import tensorflow as tf\n",
    "from tensorflow import keras"
   ]
  },
  {
   "cell_type": "code",
   "execution_count": 38,
   "id": "8dbc0241-43e5-40b8-999c-86a117146ec0",
   "metadata": {},
   "outputs": [
    {
     "name": "stderr",
     "output_type": "stream",
     "text": [
      "2023-03-28 04:58:59.763555: I tensorflow/compiler/xla/stream_executor/cuda/cuda_gpu_executor.cc:996] successful NUMA node read from SysFS had negative value (-1), but there must be at least one NUMA node, so returning NUMA node zero. See more at https://github.com/torvalds/linux/blob/v6.0/Documentation/ABI/testing/sysfs-bus-pci#L344-L355\n",
      "2023-03-28 04:58:59.789629: W tensorflow/core/common_runtime/gpu/gpu_device.cc:1956] Cannot dlopen some GPU libraries. Please make sure the missing libraries mentioned above are installed properly if you would like to use GPU. Follow the guide at https://www.tensorflow.org/install/gpu for how to download and setup the required libraries for your platform.\n",
      "Skipping registering GPU devices...\n"
     ]
    }
   ],
   "source": [
    "nHidden = config['train']['inputNeurons']\n",
    "\n",
    "tf_model = keras.Sequential([\n",
    "    keras.layers.Dense(units=16, activation='relu'),\n",
    "    keras.layers.Dense(units=nHidden[0], activation='relu'),\n",
    "    keras.layers.Dense(units=nHidden[1], activation='relu'),\n",
    "    keras.layers.Dense(units=nHidden[2], activation='relu'),\n",
    "    keras.layers.Dense(units=nHidden[3], activation='sigmoid')  #activation='softmax'\n",
    "])"
   ]
  },
  {
   "cell_type": "code",
   "execution_count": 39,
   "id": "9f3b60ac-f22c-4527-a0c1-2180fb547c6b",
   "metadata": {},
   "outputs": [],
   "source": [
    "tf_model.compile(optimizer='adam', \n",
    "              loss=tf.losses.BinaryCrossentropy(from_logits=True),\n",
    "              metrics=['accuracy'])"
   ]
  },
  {
   "cell_type": "code",
   "execution_count": 43,
   "id": "8afeacd8",
   "metadata": {},
   "outputs": [
    {
     "name": "stdout",
     "output_type": "stream",
     "text": [
      "WARNING:tensorflow:Keras is training/fitting/evaluating on array-like data. Keras may not be optimized for this format, so if your input data format is supported by TensorFlow I/O (https://github.com/tensorflow/io) we recommend using that to load a Dataset instead.\n"
     ]
    },
    {
     "ename": "TypeError",
     "evalue": "Cannot convert the argument `type_value`: torch.float32 to a TensorFlow DType.",
     "output_type": "error",
     "traceback": [
      "\u001b[0;31m---------------------------------------------------------------------------\u001b[0m",
      "\u001b[0;31mTypeError\u001b[0m                                 Traceback (most recent call last)",
      "\u001b[1;32m/workspace/lol-win-predictor/NSIETE/02_LoL_predictor_Models.ipynb Cell 42\u001b[0m in \u001b[0;36m<cell line: 1>\u001b[0;34m()\u001b[0m\n\u001b[0;32m----> <a href='vscode-notebook-cell://dev-container%2B7b22686f737450617468223a222f686f6d652f6164616d2f4465736b746f702f464949542f385f73656d65737465722f4e53494554452f6c6f6c2d77696e2d707265646963746f72222c22636f6e66696746696c65223a7b22246d6964223a312c22667350617468223a222f686f6d652f6164616d2f4465736b746f702f464949542f385f73656d65737465722f4e53494554452f6c6f6c2d77696e2d707265646963746f722f2e646576636f6e7461696e65722f646576636f6e7461696e65722e6a736f6e222c2265787465726e616c223a2266696c653a2f2f2f686f6d652f6164616d2f4465736b746f702f464949542f385f73656d65737465722f4e53494554452f6c6f6c2d77696e2d707265646963746f722f2e646576636f6e7461696e65722f646576636f6e7461696e65722e6a736f6e222c2270617468223a222f686f6d652f6164616d2f4465736b746f702f464949542f385f73656d65737465722f4e53494554452f6c6f6c2d77696e2d707265646963746f722f2e646576636f6e7461696e65722f646576636f6e7461696e65722e6a736f6e222c22736368656d65223a2266696c65227d7d/workspace/lol-win-predictor/NSIETE/02_LoL_predictor_Models.ipynb#X60sdnNjb2RlLXJlbW90ZQ%3D%3D?line=0'>1</a>\u001b[0m history \u001b[39m=\u001b[39m tf_model\u001b[39m.\u001b[39;49mfit(trainX, trainy, epochs\u001b[39m=\u001b[39;49m\u001b[39m10\u001b[39;49m)\n",
      "File \u001b[0;32m/usr/local/lib/python3.8/dist-packages/keras/utils/traceback_utils.py:70\u001b[0m, in \u001b[0;36mfilter_traceback.<locals>.error_handler\u001b[0;34m(*args, **kwargs)\u001b[0m\n\u001b[1;32m     67\u001b[0m     filtered_tb \u001b[39m=\u001b[39m _process_traceback_frames(e\u001b[39m.\u001b[39m__traceback__)\n\u001b[1;32m     68\u001b[0m     \u001b[39m# To get the full stack trace, call:\u001b[39;00m\n\u001b[1;32m     69\u001b[0m     \u001b[39m# `tf.debugging.disable_traceback_filtering()`\u001b[39;00m\n\u001b[0;32m---> 70\u001b[0m     \u001b[39mraise\u001b[39;00m e\u001b[39m.\u001b[39mwith_traceback(filtered_tb) \u001b[39mfrom\u001b[39;00m \u001b[39mNone\u001b[39m\n\u001b[1;32m     71\u001b[0m \u001b[39mfinally\u001b[39;00m:\n\u001b[1;32m     72\u001b[0m     \u001b[39mdel\u001b[39;00m filtered_tb\n",
      "File \u001b[0;32m/usr/local/lib/python3.8/dist-packages/tensorflow/python/framework/dtypes.py:829\u001b[0m, in \u001b[0;36mas_dtype\u001b[0;34m(type_value)\u001b[0m\n\u001b[1;32m    826\u001b[0m \u001b[39mif\u001b[39;00m \u001b[39misinstance\u001b[39m(type_value, _dtypes\u001b[39m.\u001b[39mDType):\n\u001b[1;32m    827\u001b[0m   \u001b[39mreturn\u001b[39;00m _INTERN_TABLE[type_value\u001b[39m.\u001b[39mas_datatype_enum]\n\u001b[0;32m--> 829\u001b[0m \u001b[39mraise\u001b[39;00m \u001b[39mTypeError\u001b[39;00m(\u001b[39mf\u001b[39m\u001b[39m\"\u001b[39m\u001b[39mCannot convert the argument `type_value`: \u001b[39m\u001b[39m{\u001b[39;00mtype_value\u001b[39m!r}\u001b[39;00m\u001b[39m \u001b[39m\u001b[39m\"\u001b[39m\n\u001b[1;32m    830\u001b[0m                 \u001b[39m\"\u001b[39m\u001b[39mto a TensorFlow DType.\u001b[39m\u001b[39m\"\u001b[39m)\n",
      "\u001b[0;31mTypeError\u001b[0m: Cannot convert the argument `type_value`: torch.float32 to a TensorFlow DType."
     ]
    }
   ],
   "source": [
    "history = tf_model.fit(trainX, trainy, epochs=10)"
   ]
  }
 ],
 "metadata": {
  "kernelspec": {
   "display_name": "Python 3 (ipykernel)",
   "language": "python",
   "name": "python3"
  },
  "language_info": {
   "codemirror_mode": {
    "name": "ipython",
    "version": 3
   },
   "file_extension": ".py",
   "mimetype": "text/x-python",
   "name": "python",
   "nbconvert_exporter": "python",
   "pygments_lexer": "ipython3",
   "version": "3.8.10"
  }
 },
 "nbformat": 4,
 "nbformat_minor": 5
}
