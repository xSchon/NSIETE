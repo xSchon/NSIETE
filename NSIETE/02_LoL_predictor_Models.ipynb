{
 "cells": [
  {
   "cell_type": "markdown",
   "id": "ca738efa-1905-435a-8dd5-384a3849edfc",
   "metadata": {},
   "source": [
    "### Run notebook 01_LoL_predictor_EDA_preparation before running this one, as it prepares the data!"
   ]
  },
  {
   "cell_type": "code",
   "execution_count": 1,
   "id": "c23e31d8-ae7d-4e86-ab03-a80b422dbceb",
   "metadata": {},
   "outputs": [],
   "source": [
    "import pandas as pd\n",
    "from sklearn.model_selection import train_test_split\n",
    "import torch\n",
    "import torch.nn as nn"
   ]
  },
  {
   "cell_type": "code",
   "execution_count": null,
   "id": "3c1aad95",
   "metadata": {},
   "outputs": [],
   "source": [
    "import wandb\n",
    "wandb.login()"
   ]
  },
  {
   "cell_type": "code",
   "execution_count": 22,
   "id": "511ae9a3-41a8-4a37-be02-8febf39be1c0",
   "metadata": {},
   "outputs": [],
   "source": [
    "pd.set_option('display.max_columns', 500)\n",
    "PREPROCESSED_PATH = '../data/processed_high_diamond.csv'\n",
    "\n",
    "data = pd.read_csv(PREPROCESSED_PATH)\n",
    "device = torch.device(\"cuda:0\" if torch.cuda.is_available() else \"cpu\")"
   ]
  },
  {
   "cell_type": "code",
   "execution_count": 3,
   "id": "a902d5cb-49e3-42a9-a25e-3adfe2ab1d5a",
   "metadata": {},
   "outputs": [],
   "source": [
    "data.drop(columns={\"gameId\"}, inplace=True)"
   ]
  },
  {
   "cell_type": "code",
   "execution_count": 4,
   "id": "60f6f5eb-65ae-499f-852f-0c60c061e1fe",
   "metadata": {},
   "outputs": [],
   "source": [
    "# split data to train and test by 70/30 ratio\n",
    "train, test = train_test_split(data, test_size=0.3)\n",
    "\n",
    "# further split test part to 50/50 with validation - final split will be 70/15/15\n",
    "test, validation = train_test_split(test, test_size=0.5)"
   ]
  },
  {
   "cell_type": "code",
   "execution_count": 5,
   "id": "9a944f3f-9f54-4158-9b90-b0b50e2dcc79",
   "metadata": {},
   "outputs": [
    {
     "data": {
      "text/plain": [
       "(6535, 17)"
      ]
     },
     "execution_count": 5,
     "metadata": {},
     "output_type": "execute_result"
    }
   ],
   "source": [
    "train.shape"
   ]
  },
  {
   "cell_type": "code",
   "execution_count": 6,
   "id": "69c99e22-7275-4ca4-8a85-ce7fdcd511ce",
   "metadata": {},
   "outputs": [
    {
     "data": {
      "text/plain": [
       "(1401, 17)"
      ]
     },
     "execution_count": 6,
     "metadata": {},
     "output_type": "execute_result"
    }
   ],
   "source": [
    "test.shape"
   ]
  },
  {
   "cell_type": "code",
   "execution_count": 7,
   "id": "e8e77839-35c6-4be0-8d8c-84432121d4d3",
   "metadata": {},
   "outputs": [
    {
     "data": {
      "text/plain": [
       "(1401, 17)"
      ]
     },
     "execution_count": 7,
     "metadata": {},
     "output_type": "execute_result"
    }
   ],
   "source": [
    "validation.shape"
   ]
  },
  {
   "cell_type": "code",
   "execution_count": 8,
   "id": "b2c2bb66-4c9a-44de-b878-45af8b4651fb",
   "metadata": {},
   "outputs": [],
   "source": [
    "trainX = train.drop(columns={\"blueWins\"})\n",
    "trainy = train.blueWins"
   ]
  },
  {
   "cell_type": "code",
   "execution_count": 9,
   "id": "fa0dff97-1432-4434-b625-f8961a431019",
   "metadata": {},
   "outputs": [],
   "source": [
    "testX = test.drop(columns={\"blueWins\"})\n",
    "testy = test.blueWins"
   ]
  },
  {
   "cell_type": "code",
   "execution_count": 10,
   "id": "0bc5bf92-6e7f-4c8b-9306-c3e827c0882c",
   "metadata": {},
   "outputs": [],
   "source": [
    "model = nn.Sequential(\n",
    "    nn.Linear(16, 256),\n",
    "    nn.ReLU(),\n",
    "    nn.Linear(256, 128),\n",
    "    nn.ReLU(),\n",
    "    nn.Linear(128, 64),\n",
    "    nn.ReLU(),\n",
    "    nn.Linear(64, 32),\n",
    "    nn.ReLU(),\n",
    "    nn.Linear(32, 1),\n",
    "    nn.Sigmoid()\n",
    "    # Softmax\n",
    ")"
   ]
  },
  {
   "cell_type": "code",
   "execution_count": 11,
   "id": "ec34e490-6a30-48ed-8e62-cbc9acc6d183",
   "metadata": {},
   "outputs": [],
   "source": [
    "trainX = torch.tensor(trainX.values)\n",
    "testX = torch.tensor(testX.values)"
   ]
  },
  {
   "cell_type": "code",
   "execution_count": 12,
   "id": "dc19e67d-a337-4ece-8176-481b875badee",
   "metadata": {},
   "outputs": [],
   "source": [
    "trainy = torch.tensor(trainy.values)\n",
    "testy = torch.tensor(testy.values)\n",
    "\n",
    "# https://stackoverflow.com/a/60440460/12342419\n",
    "trainy = trainy.type(torch.LongTensor)\n",
    "testy = testy.type(torch.LongTensor)"
   ]
  },
  {
   "cell_type": "code",
   "execution_count": 13,
   "id": "28f526be-de12-4705-84b2-08872ae93997",
   "metadata": {},
   "outputs": [],
   "source": [
    "def compute_loss(y_hat, y):\n",
    "    return nn.BCELoss()(y_hat, y)"
   ]
  },
  {
   "cell_type": "code",
   "execution_count": 14,
   "id": "3b9ea774",
   "metadata": {},
   "outputs": [],
   "source": [
    "# Calculate accuracy (a classification metric)\n",
    "def accuracy_fn(y_true, y_pred):\n",
    "    correct = torch.eq(y_true, y_pred).sum().item() # torch.eq() calculates where two tensors are equal\n",
    "    acc = (correct / len(y_pred)) * 100\n",
    "    return acc"
   ]
  },
  {
   "cell_type": "code",
   "execution_count": 15,
   "id": "36ff4e17-a3d1-4932-9407-0d27a6cc27c3",
   "metadata": {},
   "outputs": [],
   "source": [
    "optimizer = torch.optim.Adam(model.parameters(), lr=0.001)"
   ]
  },
  {
   "cell_type": "code",
   "execution_count": 23,
   "id": "ad9cbe58-f854-4034-a37d-5cab41ef2937",
   "metadata": {},
   "outputs": [],
   "source": [
    "trainX = trainX.to(torch.float32).to(device)\n",
    "testX = testX.to(torch.float32).to(device)\n",
    "trainy = trainy.to(torch.float32).to(device)\n",
    "testy = testy.to(torch.float32).to(device)"
   ]
  },
  {
   "cell_type": "code",
   "execution_count": 17,
   "id": "7dc6fc93-50ac-4b00-b4e0-b7d0de2e93c3",
   "metadata": {},
   "outputs": [],
   "source": [
    "trainy = trainy.reshape((trainy.shape[0], 1))"
   ]
  },
  {
   "cell_type": "code",
   "execution_count": 18,
   "id": "8dbb63ea-abe3-4f01-907a-52b9da83fd13",
   "metadata": {},
   "outputs": [
    {
     "data": {
      "text/plain": [
       "Sequential(\n",
       "  (0): Linear(in_features=16, out_features=256, bias=True)\n",
       "  (1): ReLU()\n",
       "  (2): Linear(in_features=256, out_features=128, bias=True)\n",
       "  (3): ReLU()\n",
       "  (4): Linear(in_features=128, out_features=64, bias=True)\n",
       "  (5): ReLU()\n",
       "  (6): Linear(in_features=64, out_features=32, bias=True)\n",
       "  (7): ReLU()\n",
       "  (8): Linear(in_features=32, out_features=1, bias=True)\n",
       "  (9): Sigmoid()\n",
       ")"
      ]
     },
     "execution_count": 18,
     "metadata": {},
     "output_type": "execute_result"
    }
   ],
   "source": [
    "model"
   ]
  },
  {
   "cell_type": "code",
   "execution_count": 19,
   "id": "130a06ff",
   "metadata": {},
   "outputs": [
    {
     "name": "stdout",
     "output_type": "stream",
     "text": [
      "cuda:0\n"
     ]
    }
   ],
   "source": [
    "model.to(device)\n",
    "print(device)"
   ]
  },
  {
   "cell_type": "code",
   "execution_count": 20,
   "id": "bbbf6643",
   "metadata": {},
   "outputs": [
    {
     "data": {
      "text/plain": [
       "'NVIDIA GeForce GTX 1050'"
      ]
     },
     "execution_count": 20,
     "metadata": {},
     "output_type": "execute_result"
    }
   ],
   "source": [
    "torch.cuda.is_available()\n",
    "torch.cuda.get_device_name(0)"
   ]
  },
  {
   "cell_type": "code",
   "execution_count": 24,
   "id": "a42c8922-f05b-46f9-8240-1f0dd506ee9c",
   "metadata": {},
   "outputs": [
    {
     "name": "stdout",
     "output_type": "stream",
     "text": [
      "0\n",
      "49.288446824789595\n",
      "100\n",
      "72.74674827850038\n",
      "200\n",
      "73.25172149961745\n",
      "300\n",
      "73.60367253251722\n",
      "400\n",
      "73.78729915837796\n",
      "500\n",
      "74.18515684774293\n",
      "600\n",
      "74.5983167559296\n",
      "700\n",
      "74.96557000765111\n",
      "800\n",
      "75.2257077276205\n",
      "900\n",
      "75.91430757459831\n",
      "1000\n",
      "75.97551644988523\n",
      "1100\n",
      "76.48048967100229\n",
      "1200\n",
      "77.00076511094109\n",
      "1300\n",
      "76.8018362662586\n",
      "1400\n",
      "76.44988523335884\n",
      "1500\n",
      "77.49043611323641\n",
      "1600\n",
      "77.64345830145372\n",
      "1700\n",
      "77.19969395562356\n",
      "1800\n",
      "78.2096403978577\n",
      "1900\n",
      "78.2096403978577\n",
      "2000\n",
      "78.57689364957919\n",
      "2100\n",
      "79.03596021423105\n",
      "2200\n",
      "78.51568477429227\n",
      "2300\n",
      "78.9441469013007\n",
      "2400\n",
      "79.64804896710022\n",
      "2500\n",
      "78.83703136954858\n",
      "2600\n",
      "79.41851568477429\n",
      "2700\n",
      "79.18898240244836\n",
      "2800\n",
      "80.0\n",
      "2900\n",
      "80.59678653404744\n",
      "3000\n",
      "80.56618209640398\n",
      "3100\n",
      "79.3726090283091\n",
      "3200\n",
      "80.76511094108646\n",
      "3300\n",
      "80.78041315990818\n",
      "3400\n",
      "81.10175975516451\n",
      "3500\n",
      "81.22417750573834\n",
      "3600\n",
      "80.2142310635042\n",
      "3700\n",
      "81.6832440703902\n",
      "3800\n",
      "81.5761285386381\n",
      "3900\n",
      "81.75975516449884\n",
      "4000\n",
      "81.82096403978576\n",
      "4100\n",
      "81.95868400918133\n",
      "4200\n",
      "81.91277735271615\n",
      "4300\n",
      "82.09640397857689\n",
      "4400\n",
      "82.28003060443766\n",
      "4500\n",
      "82.3106350420811\n",
      "4600\n",
      "82.44835501147666\n",
      "4700\n",
      "82.55547054322876\n",
      "4800\n",
      "82.75439938791125\n",
      "4900\n",
      "82.69319051262433\n",
      "5000\n",
      "83.02983932670237\n",
      "5100\n",
      "82.81560826319816\n",
      "5200\n",
      "82.92272379495027\n",
      "5300\n",
      "83.16755929609793\n",
      "5400\n",
      "82.76970160673298\n",
      "5500\n",
      "82.80030604437644\n",
      "5600\n",
      "83.56541698546289\n",
      "5700\n",
      "83.44299923488906\n",
      "5800\n",
      "83.71843917368018\n",
      "5900\n",
      "83.87146136189747\n",
      "6000\n",
      "83.79495026778882\n",
      "6100\n",
      "83.58071920428462\n",
      "6200\n",
      "83.02983932670237\n",
      "6300\n",
      "82.29533282325937\n",
      "6400\n",
      "84.0397857689365\n",
      "6500\n",
      "83.94797245600613\n",
      "6600\n",
      "83.67253251721499\n",
      "6700\n",
      "84.8814078041316\n",
      "6800\n",
      "84.95791889824025\n",
      "6900\n",
      "84.9885233358837\n",
      "7000\n",
      "85.04973221117062\n",
      "7100\n",
      "85.49349655700077\n",
      "7200\n",
      "84.9885233358837\n",
      "7300\n",
      "85.49349655700077\n",
      "7400\n",
      "85.3557765876052\n",
      "7500\n",
      "84.5141545524101\n",
      "7600\n",
      "85.04973221117062\n",
      "7700\n",
      "84.89671002295333\n",
      "7800\n",
      "80.39785768936495\n",
      "7900\n",
      "85.0956388676358\n",
      "8000\n",
      "85.3557765876052\n",
      "8100\n",
      "85.41698546289211\n",
      "8200\n",
      "85.76893649579189\n",
      "8300\n",
      "85.37107880642694\n",
      "8400\n",
      "85.99846977811782\n",
      "8500\n",
      "85.49349655700077\n",
      "8600\n",
      "85.89135424636572\n",
      "8700\n",
      "82.17291507268554\n",
      "8800\n",
      "85.79954093343535\n",
      "8900\n",
      "84.31522570772762\n",
      "9000\n",
      "85.37107880642694\n",
      "9100\n",
      "83.41239479724561\n",
      "9200\n",
      "83.18286151491967\n",
      "9300\n",
      "86.1973986228003\n",
      "9400\n",
      "83.47360367253252\n",
      "9500\n",
      "86.87069625095639\n",
      "9600\n",
      "84.2540168324407\n",
      "9700\n",
      "86.57995409334353\n",
      "9800\n",
      "82.58607498087223\n",
      "9900\n",
      "87.00841622035195\n",
      "tensor(0.3014, device='cuda:0', grad_fn=<BinaryCrossEntropyBackward0>)\n"
     ]
    }
   ],
   "source": [
    "num_epochs = 10000\n",
    "for n in range(num_epochs):\n",
    "    model.train()\n",
    "    y_pred = model(trainX)\n",
    "\n",
    "    if n % 100 == 0:\n",
    "        print(n)\n",
    "        #print(y_pred)\n",
    "        print(accuracy_fn(y_true=trainy, y_pred=torch.round(y_pred)))\n",
    "\n",
    "    loss = compute_loss(y_pred, trainy)\n",
    "    optimizer.zero_grad()\n",
    "    loss.backward()\n",
    "    #loss.backward(retain_graph=False)\n",
    "    optimizer.step()\n",
    "print(loss)"
   ]
  },
  {
   "cell_type": "code",
   "execution_count": null,
   "id": "8a29b2fc-a82d-43d8-a8b4-333dbae7e68c",
   "metadata": {},
   "outputs": [
    {
     "data": {
      "text/plain": [
       "torch.Size([6535, 1])"
      ]
     },
     "execution_count": 140,
     "metadata": {},
     "output_type": "execute_result"
    }
   ],
   "source": [
    "y_pred.shape"
   ]
  },
  {
   "cell_type": "code",
   "execution_count": null,
   "id": "b29191f7-58ca-45b9-b55b-b706daf67c8a",
   "metadata": {},
   "outputs": [
    {
     "data": {
      "text/plain": [
       "tensor([[0.],\n",
       "        [0.],\n",
       "        [0.],\n",
       "        [1.],\n",
       "        [1.],\n",
       "        [0.],\n",
       "        [1.],\n",
       "        [0.],\n",
       "        [0.],\n",
       "        [1.]], grad_fn=<RoundBackward0>)"
      ]
     },
     "execution_count": 154,
     "metadata": {},
     "output_type": "execute_result"
    }
   ],
   "source": [
    "torch.round(y_pred[:10])"
   ]
  },
  {
   "cell_type": "code",
   "execution_count": null,
   "id": "3540c527",
   "metadata": {},
   "outputs": [
    {
     "data": {
      "text/plain": [
       "tensor([0., 0., 1., 0., 1., 1., 1., 0., 0., 0.])"
      ]
     },
     "execution_count": 153,
     "metadata": {},
     "output_type": "execute_result"
    }
   ],
   "source": [
    "testy[:10]"
   ]
  },
  {
   "cell_type": "code",
   "execution_count": null,
   "id": "d76849d5-acad-4a2d-b669-ad2b0e7a9e50",
   "metadata": {},
   "outputs": [],
   "source": [
    "def predict(model, test_loader):\n",
    "    all_preds = []\n",
    "    all_preds_raw = []\n",
    "    all_labels = []\n",
    "\n",
    "    for batch in test_loader:\n",
    "        batch.x = torch.tensor(batch.x)\n",
    "        batch.x = batch.x.reshape((-1, *batch.x.shape[2:]))\n",
    "        batch.to(device)  \n",
    "        pred = model(torch.tensor(batch.x).float(), \n",
    "                        #batch.edge_attr.float(),\n",
    "                        batch.edge_index, \n",
    "                        batch.batch) \n",
    "\n",
    "        all_preds.append(np.argmax(pred.cpu().detach().numpy(), axis=1))\n",
    "        all_preds_raw.append(torch.sigmoid(pred).cpu().detach().numpy())\n",
    "        all_labels.append(batch.y.cpu().detach().numpy())\n",
    "    \n",
    "    all_preds = np.concatenate(all_preds).ravel()\n",
    "    all_labels = np.concatenate(all_labels).ravel()\n",
    "    return all_preds, all_preds_raw, all_labels"
   ]
  },
  {
   "cell_type": "code",
   "execution_count": null,
   "id": "bd7c909a-20b0-4b97-bb96-c12903ee9a4f",
   "metadata": {},
   "outputs": [
    {
     "data": {
      "text/plain": [
       "tensor([0.4339, 0.3935, 0.4414, 0.5694, 0.5528, 0.7431, 0.5000, 0.8571, 0.5714,\n",
       "        0.3333, 0.1111, 0.2778, 0.0000, 0.5040, 0.0000, 0.5440])"
      ]
     },
     "execution_count": 144,
     "metadata": {},
     "output_type": "execute_result"
    }
   ],
   "source": [
    "testX[0]"
   ]
  },
  {
   "cell_type": "code",
   "execution_count": null,
   "id": "d8a6833c-aee2-44ad-8d76-683684ab859b",
   "metadata": {},
   "outputs": [
    {
     "data": {
      "text/plain": [
       "tensor([0., 0., 1.,  ..., 0., 1., 1.])"
      ]
     },
     "execution_count": 145,
     "metadata": {},
     "output_type": "execute_result"
    }
   ],
   "source": [
    "testy"
   ]
  },
  {
   "cell_type": "code",
   "execution_count": null,
   "id": "429d8819-2f43-48da-825a-abd2403286e3",
   "metadata": {},
   "outputs": [
    {
     "data": {
      "text/plain": [
       "1401"
      ]
     },
     "execution_count": 146,
     "metadata": {},
     "output_type": "execute_result"
    }
   ],
   "source": [
    "len(model(testX))"
   ]
  },
  {
   "cell_type": "code",
   "execution_count": 27,
   "id": "8b0401c1-906e-4f20-9e97-cdead49cf94c",
   "metadata": {},
   "outputs": [
    {
     "name": "stdout",
     "output_type": "stream",
     "text": [
      "tensor([[0.9970],\n",
      "        [0.1816],\n",
      "        [0.5450],\n",
      "        [0.0798],\n",
      "        [0.1047],\n",
      "        [0.9925],\n",
      "        [0.3970],\n",
      "        [0.0391],\n",
      "        [0.4638],\n",
      "        [0.0498]], device='cuda:0', grad_fn=<SigmoidBackward0>)\n",
      "tensor([0., 1., 1., 1., 1., 1., 0., 0., 1., 1.], device='cuda:0')\n"
     ]
    }
   ],
   "source": [
    "lol = model(testX[20:30])\n",
    "print(lol)\n",
    "#print(lol.flatten())\n",
    "print(testy[20:30])"
   ]
  },
  {
   "cell_type": "code",
   "execution_count": null,
   "id": "a2319f34-1917-4fc9-af8a-2f488781bdcb",
   "metadata": {},
   "outputs": [
    {
     "data": {
      "text/plain": [
       "tensor([0., 0., 1., 0., 1., 1., 1., 0., 0., 0.])"
      ]
     },
     "execution_count": 148,
     "metadata": {},
     "output_type": "execute_result"
    }
   ],
   "source": [
    "testy[:10]"
   ]
  },
  {
   "cell_type": "code",
   "execution_count": null,
   "id": "9f0d4848-6a5c-4c72-bf63-5923855e9161",
   "metadata": {},
   "outputs": [
    {
     "ename": "AttributeError",
     "evalue": "'str' object has no attribute 'x'",
     "output_type": "error",
     "traceback": [
      "\u001b[0;31m---------------------------------------------------------------------------\u001b[0m",
      "\u001b[0;31mAttributeError\u001b[0m                            Traceback (most recent call last)",
      "\u001b[1;32m/workspace/lol-win-predictor/NSIETE/02_LoL_predictor_Models.ipynb Cell 30\u001b[0m in \u001b[0;36m<cell line: 1>\u001b[0;34m()\u001b[0m\n\u001b[0;32m----> <a href='vscode-notebook-cell://dev-container%2B7b22686f737450617468223a222f686f6d652f6164616d2f4465736b746f702f464949542f385f73656d65737465722f4e53494554452f6c6f6c2d77696e2d707265646963746f72222c22636f6e66696746696c65223a7b22246d6964223a312c22667350617468223a222f686f6d652f6164616d2f4465736b746f702f464949542f385f73656d65737465722f4e53494554452f6c6f6c2d77696e2d707265646963746f722f2e646576636f6e7461696e65722f646576636f6e7461696e65722e6a736f6e222c2265787465726e616c223a2266696c653a2f2f2f686f6d652f6164616d2f4465736b746f702f464949542f385f73656d65737465722f4e53494554452f6c6f6c2d77696e2d707265646963746f722f2e646576636f6e7461696e65722f646576636f6e7461696e65722e6a736f6e222c2270617468223a222f686f6d652f6164616d2f4465736b746f702f464949542f385f73656d65737465722f4e53494554452f6c6f6c2d77696e2d707265646963746f722f2e646576636f6e7461696e65722f646576636f6e7461696e65722e6a736f6e222c22736368656d65223a2266696c65227d7d/workspace/lol-win-predictor/NSIETE/02_LoL_predictor_Models.ipynb#X41sdnNjb2RlLXJlbW90ZQ%3D%3D?line=0'>1</a>\u001b[0m predict(model, test)\n",
      "\u001b[1;32m/workspace/lol-win-predictor/NSIETE/02_LoL_predictor_Models.ipynb Cell 30\u001b[0m in \u001b[0;36mpredict\u001b[0;34m(model, test_loader)\u001b[0m\n\u001b[1;32m      <a href='vscode-notebook-cell://dev-container%2B7b22686f737450617468223a222f686f6d652f6164616d2f4465736b746f702f464949542f385f73656d65737465722f4e53494554452f6c6f6c2d77696e2d707265646963746f72222c22636f6e66696746696c65223a7b22246d6964223a312c22667350617468223a222f686f6d652f6164616d2f4465736b746f702f464949542f385f73656d65737465722f4e53494554452f6c6f6c2d77696e2d707265646963746f722f2e646576636f6e7461696e65722f646576636f6e7461696e65722e6a736f6e222c2265787465726e616c223a2266696c653a2f2f2f686f6d652f6164616d2f4465736b746f702f464949542f385f73656d65737465722f4e53494554452f6c6f6c2d77696e2d707265646963746f722f2e646576636f6e7461696e65722f646576636f6e7461696e65722e6a736f6e222c2270617468223a222f686f6d652f6164616d2f4465736b746f702f464949542f385f73656d65737465722f4e53494554452f6c6f6c2d77696e2d707265646963746f722f2e646576636f6e7461696e65722f646576636f6e7461696e65722e6a736f6e222c22736368656d65223a2266696c65227d7d/workspace/lol-win-predictor/NSIETE/02_LoL_predictor_Models.ipynb#X41sdnNjb2RlLXJlbW90ZQ%3D%3D?line=3'>4</a>\u001b[0m all_labels \u001b[39m=\u001b[39m []\n\u001b[1;32m      <a href='vscode-notebook-cell://dev-container%2B7b22686f737450617468223a222f686f6d652f6164616d2f4465736b746f702f464949542f385f73656d65737465722f4e53494554452f6c6f6c2d77696e2d707265646963746f72222c22636f6e66696746696c65223a7b22246d6964223a312c22667350617468223a222f686f6d652f6164616d2f4465736b746f702f464949542f385f73656d65737465722f4e53494554452f6c6f6c2d77696e2d707265646963746f722f2e646576636f6e7461696e65722f646576636f6e7461696e65722e6a736f6e222c2265787465726e616c223a2266696c653a2f2f2f686f6d652f6164616d2f4465736b746f702f464949542f385f73656d65737465722f4e53494554452f6c6f6c2d77696e2d707265646963746f722f2e646576636f6e7461696e65722f646576636f6e7461696e65722e6a736f6e222c2270617468223a222f686f6d652f6164616d2f4465736b746f702f464949542f385f73656d65737465722f4e53494554452f6c6f6c2d77696e2d707265646963746f722f2e646576636f6e7461696e65722f646576636f6e7461696e65722e6a736f6e222c22736368656d65223a2266696c65227d7d/workspace/lol-win-predictor/NSIETE/02_LoL_predictor_Models.ipynb#X41sdnNjb2RlLXJlbW90ZQ%3D%3D?line=5'>6</a>\u001b[0m \u001b[39mfor\u001b[39;00m batch \u001b[39min\u001b[39;00m test_loader:\n\u001b[0;32m----> <a href='vscode-notebook-cell://dev-container%2B7b22686f737450617468223a222f686f6d652f6164616d2f4465736b746f702f464949542f385f73656d65737465722f4e53494554452f6c6f6c2d77696e2d707265646963746f72222c22636f6e66696746696c65223a7b22246d6964223a312c22667350617468223a222f686f6d652f6164616d2f4465736b746f702f464949542f385f73656d65737465722f4e53494554452f6c6f6c2d77696e2d707265646963746f722f2e646576636f6e7461696e65722f646576636f6e7461696e65722e6a736f6e222c2265787465726e616c223a2266696c653a2f2f2f686f6d652f6164616d2f4465736b746f702f464949542f385f73656d65737465722f4e53494554452f6c6f6c2d77696e2d707265646963746f722f2e646576636f6e7461696e65722f646576636f6e7461696e65722e6a736f6e222c2270617468223a222f686f6d652f6164616d2f4465736b746f702f464949542f385f73656d65737465722f4e53494554452f6c6f6c2d77696e2d707265646963746f722f2e646576636f6e7461696e65722f646576636f6e7461696e65722e6a736f6e222c22736368656d65223a2266696c65227d7d/workspace/lol-win-predictor/NSIETE/02_LoL_predictor_Models.ipynb#X41sdnNjb2RlLXJlbW90ZQ%3D%3D?line=6'>7</a>\u001b[0m     batch\u001b[39m.\u001b[39mx \u001b[39m=\u001b[39m torch\u001b[39m.\u001b[39mtensor(batch\u001b[39m.\u001b[39;49mx)\n\u001b[1;32m      <a href='vscode-notebook-cell://dev-container%2B7b22686f737450617468223a222f686f6d652f6164616d2f4465736b746f702f464949542f385f73656d65737465722f4e53494554452f6c6f6c2d77696e2d707265646963746f72222c22636f6e66696746696c65223a7b22246d6964223a312c22667350617468223a222f686f6d652f6164616d2f4465736b746f702f464949542f385f73656d65737465722f4e53494554452f6c6f6c2d77696e2d707265646963746f722f2e646576636f6e7461696e65722f646576636f6e7461696e65722e6a736f6e222c2265787465726e616c223a2266696c653a2f2f2f686f6d652f6164616d2f4465736b746f702f464949542f385f73656d65737465722f4e53494554452f6c6f6c2d77696e2d707265646963746f722f2e646576636f6e7461696e65722f646576636f6e7461696e65722e6a736f6e222c2270617468223a222f686f6d652f6164616d2f4465736b746f702f464949542f385f73656d65737465722f4e53494554452f6c6f6c2d77696e2d707265646963746f722f2e646576636f6e7461696e65722f646576636f6e7461696e65722e6a736f6e222c22736368656d65223a2266696c65227d7d/workspace/lol-win-predictor/NSIETE/02_LoL_predictor_Models.ipynb#X41sdnNjb2RlLXJlbW90ZQ%3D%3D?line=7'>8</a>\u001b[0m     batch\u001b[39m.\u001b[39mx \u001b[39m=\u001b[39m batch\u001b[39m.\u001b[39mx\u001b[39m.\u001b[39mreshape((\u001b[39m-\u001b[39m\u001b[39m1\u001b[39m, \u001b[39m*\u001b[39mbatch\u001b[39m.\u001b[39mx\u001b[39m.\u001b[39mshape[\u001b[39m2\u001b[39m:]))\n\u001b[1;32m      <a href='vscode-notebook-cell://dev-container%2B7b22686f737450617468223a222f686f6d652f6164616d2f4465736b746f702f464949542f385f73656d65737465722f4e53494554452f6c6f6c2d77696e2d707265646963746f72222c22636f6e66696746696c65223a7b22246d6964223a312c22667350617468223a222f686f6d652f6164616d2f4465736b746f702f464949542f385f73656d65737465722f4e53494554452f6c6f6c2d77696e2d707265646963746f722f2e646576636f6e7461696e65722f646576636f6e7461696e65722e6a736f6e222c2265787465726e616c223a2266696c653a2f2f2f686f6d652f6164616d2f4465736b746f702f464949542f385f73656d65737465722f4e53494554452f6c6f6c2d77696e2d707265646963746f722f2e646576636f6e7461696e65722f646576636f6e7461696e65722e6a736f6e222c2270617468223a222f686f6d652f6164616d2f4465736b746f702f464949542f385f73656d65737465722f4e53494554452f6c6f6c2d77696e2d707265646963746f722f2e646576636f6e7461696e65722f646576636f6e7461696e65722e6a736f6e222c22736368656d65223a2266696c65227d7d/workspace/lol-win-predictor/NSIETE/02_LoL_predictor_Models.ipynb#X41sdnNjb2RlLXJlbW90ZQ%3D%3D?line=8'>9</a>\u001b[0m     batch\u001b[39m.\u001b[39mto(device)  \n",
      "\u001b[0;31mAttributeError\u001b[0m: 'str' object has no attribute 'x'"
     ]
    }
   ],
   "source": [
    "predict(model, test)"
   ]
  },
  {
   "cell_type": "code",
   "execution_count": null,
   "id": "52e45216-6aca-460c-8ecc-b43daf9b1843",
   "metadata": {},
   "outputs": [],
   "source": []
  },
  {
   "cell_type": "code",
   "execution_count": null,
   "id": "a10d1a6e-2753-479d-bcdb-c0fed4dbfe0e",
   "metadata": {},
   "outputs": [],
   "source": [
    "import pandas as pd\n",
    "import matplotlib\n",
    "from matplotlib import pyplot as plt\n",
    "import seaborn as sns\n",
    "import tempfile\n",
    "import os"
   ]
  },
  {
   "cell_type": "code",
   "execution_count": null,
   "id": "d1c06a36-f3dd-4343-a77c-0534431d5abe",
   "metadata": {},
   "outputs": [],
   "source": [
    "import tensorflow as tf"
   ]
  },
  {
   "cell_type": "code",
   "execution_count": null,
   "id": "8dbc0241-43e5-40b8-999c-86a117146ec0",
   "metadata": {},
   "outputs": [],
   "source": []
  },
  {
   "cell_type": "code",
   "execution_count": null,
   "id": "9f3b60ac-f22c-4527-a0c1-2180fb547c6b",
   "metadata": {},
   "outputs": [],
   "source": []
  }
 ],
 "metadata": {
  "kernelspec": {
   "display_name": "Python 3 (ipykernel)",
   "language": "python",
   "name": "python3"
  },
  "language_info": {
   "codemirror_mode": {
    "name": "ipython",
    "version": 3
   },
   "file_extension": ".py",
   "mimetype": "text/x-python",
   "name": "python",
   "nbconvert_exporter": "python",
   "pygments_lexer": "ipython3",
   "version": "3.10.6"
  }
 },
 "nbformat": 4,
 "nbformat_minor": 5
}
