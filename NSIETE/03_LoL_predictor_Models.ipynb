{
 "cells": [
  {
   "cell_type": "markdown",
   "id": "ca738efa-1905-435a-8dd5-384a3849edfc",
   "metadata": {},
   "source": [
    "### Run notebook 02_LoL_predictor_Data_Preparation before running this one, as it prepares the data!"
   ]
  },
  {
   "cell_type": "code",
   "execution_count": 1,
   "id": "c23e31d8-ae7d-4e86-ab03-a80b422dbceb",
   "metadata": {},
   "outputs": [],
   "source": [
    "import pandas as pd\n",
    "from sklearn.model_selection import train_test_split\n",
    "import torch\n",
    "import torch.nn as nn\n",
    "import yaml"
   ]
  },
  {
   "cell_type": "code",
   "execution_count": 2,
   "id": "3c1aad95",
   "metadata": {},
   "outputs": [
    {
     "name": "stderr",
     "output_type": "stream",
     "text": [
      "\u001b[34m\u001b[1mwandb\u001b[0m: Currently logged in as: \u001b[33mmschon\u001b[0m. Use \u001b[1m`wandb login --relogin`\u001b[0m to force relogin\n"
     ]
    },
    {
     "data": {
      "text/html": [
       "wandb version 0.14.0 is available!  To upgrade, please run:\n",
       " $ pip install wandb --upgrade"
      ],
      "text/plain": [
       "<IPython.core.display.HTML object>"
      ]
     },
     "metadata": {},
     "output_type": "display_data"
    },
    {
     "data": {
      "text/html": [
       "Tracking run with wandb version 0.13.10"
      ],
      "text/plain": [
       "<IPython.core.display.HTML object>"
      ]
     },
     "metadata": {},
     "output_type": "display_data"
    },
    {
     "data": {
      "text/html": [
       "Run data is saved locally in <code>/home/xschon/Desktop/NSIETE/Projekt1/NSIETE/wandb/run-20230328_140154-haerm68r</code>"
      ],
      "text/plain": [
       "<IPython.core.display.HTML object>"
      ]
     },
     "metadata": {},
     "output_type": "display_data"
    },
    {
     "data": {
      "text/html": [
       "Syncing run <strong><a href='https://wandb.ai/mschon/lol-predictor/runs/haerm68r' target=\"_blank\">winter-thunder-2</a></strong> to <a href='https://wandb.ai/mschon/lol-predictor' target=\"_blank\">Weights & Biases</a> (<a href='https://wandb.me/run' target=\"_blank\">docs</a>)<br/>"
      ],
      "text/plain": [
       "<IPython.core.display.HTML object>"
      ]
     },
     "metadata": {},
     "output_type": "display_data"
    },
    {
     "data": {
      "text/html": [
       " View project at <a href='https://wandb.ai/mschon/lol-predictor' target=\"_blank\">https://wandb.ai/mschon/lol-predictor</a>"
      ],
      "text/plain": [
       "<IPython.core.display.HTML object>"
      ]
     },
     "metadata": {},
     "output_type": "display_data"
    },
    {
     "data": {
      "text/html": [
       " View run at <a href='https://wandb.ai/mschon/lol-predictor/runs/haerm68r' target=\"_blank\">https://wandb.ai/mschon/lol-predictor/runs/haerm68r</a>"
      ],
      "text/plain": [
       "<IPython.core.display.HTML object>"
      ]
     },
     "metadata": {},
     "output_type": "display_data"
    },
    {
     "data": {
      "text/html": [
       "<button onClick=\"this.nextSibling.style.display='block';this.style.display='none';\">Display W&B run</button><iframe src='https://wandb.ai/mschon/lol-predictor/runs/haerm68r?jupyter=true' style='border:none;width:100%;height:420px;display:none;'></iframe>"
      ],
      "text/plain": [
       "<wandb.sdk.wandb_run.Run at 0x7f831bfda920>"
      ]
     },
     "execution_count": 2,
     "metadata": {},
     "output_type": "execute_result"
    }
   ],
   "source": [
    "with open('config.yml', mode=\"r\") as f:\n",
    "    config = yaml.safe_load(f)\n",
    "\n",
    "import wandb\n",
    "wandb.login()\n",
    "\n",
    "wandb.init(\n",
    "        project=\"lol-predictor\",\n",
    "        entity=\"mschon\",\n",
    "        config=config['train'],\n",
    "        group='pytorch',\n",
    "        mode='online'\n",
    "    )"
   ]
  },
  {
   "cell_type": "code",
   "execution_count": 25,
   "id": "511ae9a3-41a8-4a37-be02-8febf39be1c0",
   "metadata": {},
   "outputs": [],
   "source": [
    "pd.set_option('display.max_columns', 500)\n",
    "DATA_FOLDER = '../data/'\n",
    "\n",
    "device = torch.device(\"cuda:0\" if torch.cuda.is_available() else \"cpu\")"
   ]
  },
  {
   "cell_type": "code",
   "execution_count": 26,
   "id": "81086128-1f17-46e8-b85c-84c709e570d9",
   "metadata": {},
   "outputs": [],
   "source": [
    "train = pd.read_csv(f\"{DATA_FOLDER}/train.csv\")\n",
    "test = pd.read_csv(f\"{DATA_FOLDER}/test.csv\")\n",
    "validation = pd.read_csv(f\"{DATA_FOLDER}/validation.csv\")"
   ]
  },
  {
   "cell_type": "code",
   "execution_count": 27,
   "id": "9a944f3f-9f54-4158-9b90-b0b50e2dcc79",
   "metadata": {},
   "outputs": [
    {
     "data": {
      "text/plain": [
       "(6375, 22)"
      ]
     },
     "execution_count": 27,
     "metadata": {},
     "output_type": "execute_result"
    }
   ],
   "source": [
    "train.shape"
   ]
  },
  {
   "cell_type": "code",
   "execution_count": 28,
   "id": "69c99e22-7275-4ca4-8a85-ce7fdcd511ce",
   "metadata": {},
   "outputs": [
    {
     "data": {
      "text/plain": [
       "(1482, 22)"
      ]
     },
     "execution_count": 28,
     "metadata": {},
     "output_type": "execute_result"
    }
   ],
   "source": [
    "test.shape"
   ]
  },
  {
   "cell_type": "code",
   "execution_count": 29,
   "id": "e8e77839-35c6-4be0-8d8c-84432121d4d3",
   "metadata": {},
   "outputs": [
    {
     "data": {
      "text/plain": [
       "(1482, 22)"
      ]
     },
     "execution_count": 29,
     "metadata": {},
     "output_type": "execute_result"
    }
   ],
   "source": [
    "validation.shape"
   ]
  },
  {
   "cell_type": "code",
   "execution_count": 9,
   "id": "b2c2bb66-4c9a-44de-b878-45af8b4651fb",
   "metadata": {},
   "outputs": [],
   "source": [
    "trainX = train.drop(columns={\"blueWins\"})\n",
    "trainy = train.blueWins"
   ]
  },
  {
   "cell_type": "code",
   "execution_count": 10,
   "id": "fa0dff97-1432-4434-b625-f8961a431019",
   "metadata": {},
   "outputs": [],
   "source": [
    "testX = test.drop(columns={\"blueWins\"})\n",
    "testy = test.blueWins"
   ]
  },
  {
   "cell_type": "code",
   "execution_count": 11,
   "id": "0bc5bf92-6e7f-4c8b-9306-c3e827c0882c",
   "metadata": {},
   "outputs": [],
   "source": [
    "nHidden = config['train']['inputNeurons']\n",
    "\n",
    "model = nn.Sequential(\n",
    "    nn.Linear(16, nHidden[0]),\n",
    "    nn.ReLU(),\n",
    "    nn.Linear(nHidden[0], nHidden[1]),\n",
    "    nn.ReLU(),\n",
    "    nn.Linear(nHidden[1], nHidden[2]),\n",
    "    nn.ReLU(),\n",
    "    nn.Linear(nHidden[2], nHidden[3]),\n",
    "    nn.ReLU(),\n",
    "    nn.Linear(nHidden[3], 1),\n",
    "    nn.Sigmoid()\n",
    "    # Softmax\n",
    ")"
   ]
  },
  {
   "cell_type": "code",
   "execution_count": 12,
   "id": "ec34e490-6a30-48ed-8e62-cbc9acc6d183",
   "metadata": {},
   "outputs": [],
   "source": [
    "trainX = torch.tensor(trainX.values)\n",
    "testX = torch.tensor(testX.values)"
   ]
  },
  {
   "cell_type": "code",
   "execution_count": 13,
   "id": "dc19e67d-a337-4ece-8176-481b875badee",
   "metadata": {},
   "outputs": [],
   "source": [
    "trainy = torch.tensor(trainy.values)\n",
    "testy = torch.tensor(testy.values)\n",
    "\n",
    "# https://stackoverflow.com/a/60440460/12342419\n",
    "trainy = trainy.type(torch.LongTensor)\n",
    "testy = testy.type(torch.LongTensor)"
   ]
  },
  {
   "cell_type": "code",
   "execution_count": 14,
   "id": "28f526be-de12-4705-84b2-08872ae93997",
   "metadata": {},
   "outputs": [],
   "source": [
    "def compute_loss(y_hat, y):\n",
    "    return nn.BCELoss()(y_hat, y)"
   ]
  },
  {
   "cell_type": "code",
   "execution_count": 15,
   "id": "3b9ea774",
   "metadata": {},
   "outputs": [],
   "source": [
    "# Calculate accuracy (a classification metric)\n",
    "def accuracy_fn(y_true, y_pred):\n",
    "    correct = torch.eq(y_true, y_pred).sum().item() # torch.eq() calculates where two tensors are equal\n",
    "    acc = (correct / len(y_pred)) * 100\n",
    "    return acc"
   ]
  },
  {
   "cell_type": "code",
   "execution_count": 16,
   "id": "36ff4e17-a3d1-4932-9407-0d27a6cc27c3",
   "metadata": {},
   "outputs": [],
   "source": [
    "optimizer = torch.optim.Adam(model.parameters(), lr=0.001)"
   ]
  },
  {
   "cell_type": "code",
   "execution_count": 17,
   "id": "ad9cbe58-f854-4034-a37d-5cab41ef2937",
   "metadata": {},
   "outputs": [],
   "source": [
    "trainX = trainX.to(torch.float32).to(device)\n",
    "testX = testX.to(torch.float32).to(device)\n",
    "trainy = trainy.to(torch.float32).to(device)\n",
    "testy = testy.to(torch.float32).to(device)"
   ]
  },
  {
   "cell_type": "code",
   "execution_count": 18,
   "id": "7dc6fc93-50ac-4b00-b4e0-b7d0de2e93c3",
   "metadata": {},
   "outputs": [],
   "source": [
    "trainy = trainy.reshape((trainy.shape[0], 1))"
   ]
  },
  {
   "cell_type": "code",
   "execution_count": 19,
   "id": "8dbb63ea-abe3-4f01-907a-52b9da83fd13",
   "metadata": {},
   "outputs": [
    {
     "data": {
      "text/plain": [
       "Sequential(\n",
       "  (0): Linear(in_features=16, out_features=256, bias=True)\n",
       "  (1): ReLU()\n",
       "  (2): Linear(in_features=256, out_features=128, bias=True)\n",
       "  (3): ReLU()\n",
       "  (4): Linear(in_features=128, out_features=64, bias=True)\n",
       "  (5): ReLU()\n",
       "  (6): Linear(in_features=64, out_features=32, bias=True)\n",
       "  (7): ReLU()\n",
       "  (8): Linear(in_features=32, out_features=1, bias=True)\n",
       "  (9): Sigmoid()\n",
       ")"
      ]
     },
     "execution_count": 19,
     "metadata": {},
     "output_type": "execute_result"
    }
   ],
   "source": [
    "model"
   ]
  },
  {
   "cell_type": "code",
   "execution_count": 20,
   "id": "130a06ff",
   "metadata": {},
   "outputs": [
    {
     "name": "stdout",
     "output_type": "stream",
     "text": [
      "cpu\n"
     ]
    }
   ],
   "source": [
    "model.to(device)\n",
    "print(device)"
   ]
  },
  {
   "cell_type": "code",
   "execution_count": 21,
   "id": "b2683360",
   "metadata": {},
   "outputs": [
    {
     "data": {
      "text/plain": [
       "False"
      ]
     },
     "execution_count": 21,
     "metadata": {},
     "output_type": "execute_result"
    }
   ],
   "source": [
    "torch.cuda.is_available()"
   ]
  },
  {
   "cell_type": "code",
   "execution_count": 22,
   "id": "bbbf6643",
   "metadata": {},
   "outputs": [
    {
     "ename": "RuntimeError",
     "evalue": "No CUDA GPUs are available",
     "output_type": "error",
     "traceback": [
      "\u001b[0;31m---------------------------------------------------------------------------\u001b[0m",
      "\u001b[0;31mRuntimeError\u001b[0m                              Traceback (most recent call last)",
      "\u001b[0;32m/tmp/ipykernel_71349/2883825925.py\u001b[0m in \u001b[0;36m<module>\u001b[0;34m\u001b[0m\n\u001b[1;32m      1\u001b[0m \u001b[0mtorch\u001b[0m\u001b[0;34m.\u001b[0m\u001b[0mcuda\u001b[0m\u001b[0;34m.\u001b[0m\u001b[0mis_available\u001b[0m\u001b[0;34m(\u001b[0m\u001b[0;34m)\u001b[0m\u001b[0;34m\u001b[0m\u001b[0;34m\u001b[0m\u001b[0m\n\u001b[0;32m----> 2\u001b[0;31m \u001b[0mtorch\u001b[0m\u001b[0;34m.\u001b[0m\u001b[0mcuda\u001b[0m\u001b[0;34m.\u001b[0m\u001b[0mget_device_name\u001b[0m\u001b[0;34m(\u001b[0m\u001b[0;36m0\u001b[0m\u001b[0;34m)\u001b[0m\u001b[0;34m\u001b[0m\u001b[0;34m\u001b[0m\u001b[0m\n\u001b[0m",
      "\u001b[0;32m~/.local/lib/python3.10/site-packages/torch/cuda/__init__.py\u001b[0m in \u001b[0;36mget_device_name\u001b[0;34m(device)\u001b[0m\n\u001b[1;32m    339\u001b[0m         \u001b[0mstr\u001b[0m\u001b[0;34m:\u001b[0m \u001b[0mthe\u001b[0m \u001b[0mname\u001b[0m \u001b[0mof\u001b[0m \u001b[0mthe\u001b[0m \u001b[0mdevice\u001b[0m\u001b[0;34m\u001b[0m\u001b[0;34m\u001b[0m\u001b[0m\n\u001b[1;32m    340\u001b[0m     \"\"\"\n\u001b[0;32m--> 341\u001b[0;31m     \u001b[0;32mreturn\u001b[0m \u001b[0mget_device_properties\u001b[0m\u001b[0;34m(\u001b[0m\u001b[0mdevice\u001b[0m\u001b[0;34m)\u001b[0m\u001b[0;34m.\u001b[0m\u001b[0mname\u001b[0m\u001b[0;34m\u001b[0m\u001b[0;34m\u001b[0m\u001b[0m\n\u001b[0m\u001b[1;32m    342\u001b[0m \u001b[0;34m\u001b[0m\u001b[0m\n\u001b[1;32m    343\u001b[0m \u001b[0;34m\u001b[0m\u001b[0m\n",
      "\u001b[0;32m~/.local/lib/python3.10/site-packages/torch/cuda/__init__.py\u001b[0m in \u001b[0;36mget_device_properties\u001b[0;34m(device)\u001b[0m\n\u001b[1;32m    369\u001b[0m         \u001b[0m_CudaDeviceProperties\u001b[0m\u001b[0;34m:\u001b[0m \u001b[0mthe\u001b[0m \u001b[0mproperties\u001b[0m \u001b[0mof\u001b[0m \u001b[0mthe\u001b[0m \u001b[0mdevice\u001b[0m\u001b[0;34m\u001b[0m\u001b[0;34m\u001b[0m\u001b[0m\n\u001b[1;32m    370\u001b[0m     \"\"\"\n\u001b[0;32m--> 371\u001b[0;31m     \u001b[0m_lazy_init\u001b[0m\u001b[0;34m(\u001b[0m\u001b[0;34m)\u001b[0m  \u001b[0;31m# will define _get_device_properties\u001b[0m\u001b[0;34m\u001b[0m\u001b[0;34m\u001b[0m\u001b[0m\n\u001b[0m\u001b[1;32m    372\u001b[0m     \u001b[0mdevice\u001b[0m \u001b[0;34m=\u001b[0m \u001b[0m_get_device_index\u001b[0m\u001b[0;34m(\u001b[0m\u001b[0mdevice\u001b[0m\u001b[0;34m,\u001b[0m \u001b[0moptional\u001b[0m\u001b[0;34m=\u001b[0m\u001b[0;32mTrue\u001b[0m\u001b[0;34m)\u001b[0m\u001b[0;34m\u001b[0m\u001b[0;34m\u001b[0m\u001b[0m\n\u001b[1;32m    373\u001b[0m     \u001b[0;32mif\u001b[0m \u001b[0mdevice\u001b[0m \u001b[0;34m<\u001b[0m \u001b[0;36m0\u001b[0m \u001b[0;32mor\u001b[0m \u001b[0mdevice\u001b[0m \u001b[0;34m>=\u001b[0m \u001b[0mdevice_count\u001b[0m\u001b[0;34m(\u001b[0m\u001b[0;34m)\u001b[0m\u001b[0;34m:\u001b[0m\u001b[0;34m\u001b[0m\u001b[0;34m\u001b[0m\u001b[0m\n",
      "\u001b[0;32m~/.local/lib/python3.10/site-packages/torch/cuda/__init__.py\u001b[0m in \u001b[0;36m_lazy_init\u001b[0;34m()\u001b[0m\n\u001b[1;32m    227\u001b[0m         \u001b[0;32mif\u001b[0m \u001b[0;34m'CUDA_MODULE_LOADING'\u001b[0m \u001b[0;32mnot\u001b[0m \u001b[0;32min\u001b[0m \u001b[0mos\u001b[0m\u001b[0;34m.\u001b[0m\u001b[0menviron\u001b[0m\u001b[0;34m:\u001b[0m\u001b[0;34m\u001b[0m\u001b[0;34m\u001b[0m\u001b[0m\n\u001b[1;32m    228\u001b[0m             \u001b[0mos\u001b[0m\u001b[0;34m.\u001b[0m\u001b[0menviron\u001b[0m\u001b[0;34m[\u001b[0m\u001b[0;34m'CUDA_MODULE_LOADING'\u001b[0m\u001b[0;34m]\u001b[0m \u001b[0;34m=\u001b[0m \u001b[0;34m'LAZY'\u001b[0m\u001b[0;34m\u001b[0m\u001b[0;34m\u001b[0m\u001b[0m\n\u001b[0;32m--> 229\u001b[0;31m         \u001b[0mtorch\u001b[0m\u001b[0;34m.\u001b[0m\u001b[0m_C\u001b[0m\u001b[0;34m.\u001b[0m\u001b[0m_cuda_init\u001b[0m\u001b[0;34m(\u001b[0m\u001b[0;34m)\u001b[0m\u001b[0;34m\u001b[0m\u001b[0;34m\u001b[0m\u001b[0m\n\u001b[0m\u001b[1;32m    230\u001b[0m         \u001b[0;31m# Some of the queued calls may reentrantly call _lazy_init();\u001b[0m\u001b[0;34m\u001b[0m\u001b[0;34m\u001b[0m\u001b[0m\n\u001b[1;32m    231\u001b[0m         \u001b[0;31m# we need to just return without initializing in that case.\u001b[0m\u001b[0;34m\u001b[0m\u001b[0;34m\u001b[0m\u001b[0m\n",
      "\u001b[0;31mRuntimeError\u001b[0m: No CUDA GPUs are available"
     ]
    }
   ],
   "source": [
    "torch.cuda.is_available()\n",
    "torch.cuda.get_device_name(0)"
   ]
  },
  {
   "cell_type": "code",
   "execution_count": 23,
   "id": "a42c8922-f05b-46f9-8240-1f0dd506ee9c",
   "metadata": {},
   "outputs": [
    {
     "name": "stdout",
     "output_type": "stream",
     "text": [
      "0\n",
      "49.77811782708493\n",
      "50\n",
      "72.37949502677888\n",
      "100\n",
      "72.94567712318286\n",
      "150\n",
      "73.11400153022188\n",
      "200\n",
      "72.93037490436113\n",
      "250\n",
      "73.58837031369548\n",
      "300\n",
      "73.8638102524866\n",
      "350\n",
      "74.44529456771232\n",
      "400\n",
      "74.4299923488906\n",
      "450\n",
      "74.91966335118592\n",
      "500\n",
      "75.24100994644223\n",
      "550\n",
      "75.34812547819433\n",
      "600\n",
      "75.73068094873757\n",
      "650\n",
      "75.40933435348126\n",
      "700\n",
      "76.17444529456772\n",
      "750\n",
      "76.40397857689365\n",
      "800\n",
      "76.89364957918899\n",
      "850\n",
      "76.90895179801072\n",
      "900\n",
      "76.90895179801072\n",
      "950\n",
      "76.98546289211936\n",
      "1000\n",
      "77.50573833205814\n",
      "1050\n",
      "77.5822494261668\n",
      "1100\n",
      "77.62815608263199\n",
      "1150\n",
      "77.76587605202755\n",
      "1200\n",
      "78.11782708492731\n",
      "1250\n",
      "78.19433817903597\n",
      "1300\n",
      "78.25554705432288\n",
      "1350\n",
      "78.46977811782708\n",
      "1400\n",
      "78.48508033664882\n",
      "1450\n",
      "78.51568477429227\n",
      "1500\n",
      "78.97475133894415\n",
      "1550\n",
      "78.86763580719204\n",
      "1600\n",
      "79.1124713083397\n",
      "1650\n",
      "79.23488905891354\n",
      "1700\n",
      "79.18898240244836\n",
      "1750\n",
      "79.54093343534812\n",
      "1800\n",
      "79.35730680948737\n",
      "1850\n",
      "79.29609793420046\n",
      "1900\n",
      "79.92348890589135\n",
      "1950\n",
      "79.54093343534812\n",
      "2000\n",
      "79.8928844682479\n",
      "2050\n",
      "80.07651109410865\n",
      "2100\n",
      "80.26013771996939\n",
      "2150\n",
      "80.19892884468248\n",
      "2200\n",
      "80.0\n",
      "2250\n",
      "80.13771996939556\n",
      "2300\n",
      "79.81637337413925\n",
      "2350\n",
      "80.27543993879112\n",
      "2400\n",
      "80.82631981637337\n",
      "2450\n",
      "80.41315990818669\n",
      "2500\n",
      "79.61744452945678\n",
      "2550\n",
      "80.9946442234124\n",
      "2600\n",
      "81.13236419280796\n",
      "2650\n",
      "80.97934200459068\n",
      "2700\n",
      "81.22417750573834\n",
      "2750\n",
      "81.11706197398622\n",
      "2800\n",
      "80.13771996939556\n",
      "2850\n",
      "80.9946442234124\n",
      "2900\n",
      "81.48431522570773\n",
      "2950\n",
      "80.68859984697781\n",
      "3000\n",
      "81.02524866105585\n",
      "3050\n",
      "81.80566182096403\n",
      "3100\n",
      "81.89747513389442\n",
      "3150\n",
      "81.34659525631217\n",
      "3200\n",
      "81.60673297628156\n",
      "3250\n",
      "81.92807957153786\n",
      "3300\n",
      "81.75975516449884\n",
      "3350\n",
      "82.34123947972456\n",
      "3400\n",
      "82.15761285386381\n",
      "3450\n",
      "82.17291507268554\n",
      "3500\n",
      "81.74445294567712\n",
      "3550\n",
      "81.88217291507269\n",
      "3600\n",
      "82.37184391736801\n",
      "3650\n",
      "82.43305279265493\n",
      "3700\n",
      "82.55547054322876\n",
      "3750\n",
      "82.37184391736801\n",
      "3800\n",
      "82.63198163733742\n",
      "3850\n",
      "82.15761285386381\n",
      "3900\n",
      "82.72379495026779\n",
      "3950\n",
      "82.38714613618974\n",
      "4000\n",
      "83.02983932670237\n",
      "4050\n",
      "82.89211935730681\n",
      "4100\n",
      "81.34659525631217\n",
      "4150\n",
      "83.47360367253252\n",
      "4200\n",
      "83.33588370313696\n",
      "4250\n",
      "82.06579954093344\n",
      "4300\n",
      "82.96863045141546\n",
      "4350\n",
      "83.59602142310635\n",
      "4400\n",
      "82.32593726090283\n",
      "4450\n",
      "82.90742157612854\n",
      "4500\n",
      "83.6266258607498\n",
      "4550\n",
      "82.40244835501149\n",
      "4600\n",
      "82.54016832440703\n",
      "4650\n",
      "83.3052792654935\n",
      "4700\n",
      "83.5195103289977\n",
      "4750\n",
      "83.90206579954094\n",
      "4800\n",
      "83.91736801836267\n",
      "4850\n",
      "82.14231063504208\n",
      "4900\n",
      "82.09640397857689\n",
      "4950\n",
      "84.22341239479725\n",
      "tensor(0.3645, grad_fn=<BinaryCrossEntropyBackward0>)\n"
     ]
    }
   ],
   "source": [
    "num_epochs = config['train']['epochs']\n",
    "\n",
    "for n in range(num_epochs):\n",
    "    model.train()\n",
    "    y_pred = model(trainX)\n",
    "    loss = compute_loss(y_pred, trainy)\n",
    "    \n",
    "    if n % (num_epochs / 100) == 0:\n",
    "        print(n)\n",
    "        #print(y_pred)\n",
    "        print(accuracy_fn(y_true=trainy, y_pred=torch.round(y_pred)))\n",
    "        accuracy = accuracy_fn(y_true=trainy, y_pred=torch.round(y_pred))\n",
    "        wandb.log({'epoch': n, 'accuracy': accuracy, 'loss': loss})\n",
    "\n",
    "    optimizer.zero_grad()\n",
    "    loss.backward()\n",
    "    #loss.backward(retain_graph=False)\n",
    "    optimizer.step()\n",
    "print(loss)"
   ]
  },
  {
   "cell_type": "code",
   "execution_count": null,
   "id": "8a29b2fc-a82d-43d8-a8b4-333dbae7e68c",
   "metadata": {},
   "outputs": [],
   "source": [
    "y_pred.shape"
   ]
  },
  {
   "cell_type": "code",
   "execution_count": null,
   "id": "b29191f7-58ca-45b9-b55b-b706daf67c8a",
   "metadata": {},
   "outputs": [],
   "source": [
    "torch.round(y_pred[:10])"
   ]
  },
  {
   "cell_type": "code",
   "execution_count": null,
   "id": "3540c527",
   "metadata": {},
   "outputs": [],
   "source": [
    "testy[:10]"
   ]
  },
  {
   "cell_type": "code",
   "execution_count": null,
   "id": "d76849d5-acad-4a2d-b669-ad2b0e7a9e50",
   "metadata": {},
   "outputs": [],
   "source": [
    "def predict(model, test_loader):\n",
    "    all_preds = []\n",
    "    all_preds_raw = []\n",
    "    all_labels = []\n",
    "\n",
    "    for batch in test_loader:\n",
    "        batch.x = torch.tensor(batch.x)\n",
    "        batch.x = batch.x.reshape((-1, *batch.x.shape[2:]))\n",
    "        batch.to(device)  \n",
    "        pred = model(torch.tensor(batch.x).float(), \n",
    "                        #batch.edge_attr.float(),\n",
    "                        batch.edge_index, \n",
    "                        batch.batch) \n",
    "\n",
    "        all_preds.append(np.argmax(pred.cpu().detach().numpy(), axis=1))\n",
    "        all_preds_raw.append(torch.sigmoid(pred).cpu().detach().numpy())\n",
    "        all_labels.append(batch.y.cpu().detach().numpy())\n",
    "    \n",
    "    all_preds = np.concatenate(all_preds).ravel()\n",
    "    all_labels = np.concatenate(all_labels).ravel()\n",
    "    return all_preds, all_preds_raw, all_labels"
   ]
  },
  {
   "cell_type": "code",
   "execution_count": null,
   "id": "bd7c909a-20b0-4b97-bb96-c12903ee9a4f",
   "metadata": {},
   "outputs": [],
   "source": [
    "torch.round(testX[0])"
   ]
  },
  {
   "cell_type": "code",
   "execution_count": null,
   "id": "d8a6833c-aee2-44ad-8d76-683684ab859b",
   "metadata": {},
   "outputs": [],
   "source": [
    "testy"
   ]
  },
  {
   "cell_type": "code",
   "execution_count": null,
   "id": "429d8819-2f43-48da-825a-abd2403286e3",
   "metadata": {},
   "outputs": [],
   "source": [
    "len(model(testX))"
   ]
  },
  {
   "cell_type": "code",
   "execution_count": null,
   "id": "a7189fb7",
   "metadata": {},
   "outputs": [],
   "source": [
    "model(testX)[0:10]"
   ]
  },
  {
   "cell_type": "code",
   "execution_count": null,
   "id": "fbbaae83",
   "metadata": {},
   "outputs": [],
   "source": [
    "testy[:10]"
   ]
  },
  {
   "cell_type": "code",
   "execution_count": null,
   "id": "8b0401c1-906e-4f20-9e97-cdead49cf94c",
   "metadata": {},
   "outputs": [],
   "source": [
    "lol = model(testX[20:30])\n",
    "print(lol)\n",
    "#print(lol.flatten())\n",
    "print(testy[20:30])"
   ]
  },
  {
   "cell_type": "code",
   "execution_count": null,
   "id": "a2319f34-1917-4fc9-af8a-2f488781bdcb",
   "metadata": {},
   "outputs": [],
   "source": [
    "testy[:10]"
   ]
  },
  {
   "cell_type": "code",
   "execution_count": null,
   "id": "9f0d4848-6a5c-4c72-bf63-5923855e9161",
   "metadata": {},
   "outputs": [],
   "source": [
    "predict(model, test)"
   ]
  },
  {
   "cell_type": "markdown",
   "id": "52e45216-6aca-460c-8ecc-b43daf9b1843",
   "metadata": {},
   "source": [
    "## Tensorflow implementation"
   ]
  },
  {
   "cell_type": "code",
   "execution_count": null,
   "id": "a10d1a6e-2753-479d-bcdb-c0fed4dbfe0e",
   "metadata": {},
   "outputs": [],
   "source": [
    "import pandas as pd\n",
    "import matplotlib\n",
    "from matplotlib import pyplot as plt\n",
    "import seaborn as sns\n",
    "import tempfile\n",
    "import os"
   ]
  },
  {
   "cell_type": "code",
   "execution_count": null,
   "id": "d1c06a36-f3dd-4343-a77c-0534431d5abe",
   "metadata": {},
   "outputs": [],
   "source": [
    "import tensorflow as tf\n",
    "from tensorflow import keras"
   ]
  },
  {
   "cell_type": "code",
   "execution_count": null,
   "id": "8dbc0241-43e5-40b8-999c-86a117146ec0",
   "metadata": {},
   "outputs": [],
   "source": [
    "nHidden = config['train']['inputNeurons']\n",
    "\n",
    "tf_model = keras.Sequential([\n",
    "    keras.layers.Dense(units=16, activation='relu'),\n",
    "    keras.layers.Dense(units=nHidden[0], activation='relu'),\n",
    "    keras.layers.Dense(units=nHidden[1], activation='relu'),\n",
    "    keras.layers.Dense(units=nHidden[2], activation='relu'),\n",
    "    keras.layers.Dense(units=nHidden[3], activation='sigmoid')  #activation='softmax'\n",
    "])"
   ]
  },
  {
   "cell_type": "code",
   "execution_count": null,
   "id": "9f3b60ac-f22c-4527-a0c1-2180fb547c6b",
   "metadata": {},
   "outputs": [],
   "source": [
    "tf_model.compile(optimizer='adam', \n",
    "              loss=tf.losses.BinaryCrossentropy(from_logits=True),\n",
    "              metrics=['accuracy'])"
   ]
  },
  {
   "cell_type": "code",
   "execution_count": null,
   "id": "8afeacd8",
   "metadata": {},
   "outputs": [],
   "source": [
    "history = tf_model.fit(trainX, trainy, epochs=10)"
   ]
  }
 ],
 "metadata": {
  "kernelspec": {
   "display_name": "Python 3 (ipykernel)",
   "language": "python",
   "name": "python3"
  },
  "language_info": {
   "codemirror_mode": {
    "name": "ipython",
    "version": 3
   },
   "file_extension": ".py",
   "mimetype": "text/x-python",
   "name": "python",
   "nbconvert_exporter": "python",
   "pygments_lexer": "ipython3",
   "version": "3.10.6"
  }
 },
 "nbformat": 4,
 "nbformat_minor": 5
}
