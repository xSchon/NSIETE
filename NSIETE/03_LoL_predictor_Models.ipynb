{
 "cells": [
  {
   "cell_type": "markdown",
   "id": "ca738efa-1905-435a-8dd5-384a3849edfc",
   "metadata": {},
   "source": [
    "### Run notebook 02_LoL_predictor_Data_Preparation before running this one, as it prepares the data!"
   ]
  },
  {
   "cell_type": "code",
   "execution_count": 1,
   "id": "c23e31d8-ae7d-4e86-ab03-a80b422dbceb",
   "metadata": {},
   "outputs": [],
   "source": [
    "import pandas as pd\n",
    "from sklearn.model_selection import train_test_split\n",
    "import torch\n",
    "import torch.nn as nn\n",
    "from tqdm import tqdm\n",
    "import yaml"
   ]
  },
  {
   "cell_type": "code",
   "execution_count": 2,
   "id": "3c1aad95",
   "metadata": {},
   "outputs": [
    {
     "name": "stderr",
     "output_type": "stream",
     "text": [
      "\u001b[34m\u001b[1mwandb\u001b[0m: Currently logged in as: \u001b[33mmschon\u001b[0m (\u001b[33mlol-predictor\u001b[0m). Use \u001b[1m`wandb login --relogin`\u001b[0m to force relogin\n"
     ]
    },
    {
     "data": {
      "text/html": [
       "wandb version 0.14.0 is available!  To upgrade, please run:\n",
       " $ pip install wandb --upgrade"
      ],
      "text/plain": [
       "<IPython.core.display.HTML object>"
      ]
     },
     "metadata": {},
     "output_type": "display_data"
    },
    {
     "data": {
      "text/html": [
       "Tracking run with wandb version 0.13.10"
      ],
      "text/plain": [
       "<IPython.core.display.HTML object>"
      ]
     },
     "metadata": {},
     "output_type": "display_data"
    },
    {
     "data": {
      "text/html": [
       "Run data is saved locally in <code>/home/xschon/Desktop/NSIETE/Projekt1/NSIETE/wandb/run-20230328_193758-febhie27</code>"
      ],
      "text/plain": [
       "<IPython.core.display.HTML object>"
      ]
     },
     "metadata": {},
     "output_type": "display_data"
    },
    {
     "data": {
      "text/html": [
       "Syncing run <strong><a href='https://wandb.ai/lol-predictor/lol-predictor/runs/febhie27' target=\"_blank\">quiet-lake-4</a></strong> to <a href='https://wandb.ai/lol-predictor/lol-predictor' target=\"_blank\">Weights & Biases</a> (<a href='https://wandb.me/run' target=\"_blank\">docs</a>)<br/>"
      ],
      "text/plain": [
       "<IPython.core.display.HTML object>"
      ]
     },
     "metadata": {},
     "output_type": "display_data"
    },
    {
     "data": {
      "text/html": [
       " View project at <a href='https://wandb.ai/lol-predictor/lol-predictor' target=\"_blank\">https://wandb.ai/lol-predictor/lol-predictor</a>"
      ],
      "text/plain": [
       "<IPython.core.display.HTML object>"
      ]
     },
     "metadata": {},
     "output_type": "display_data"
    },
    {
     "data": {
      "text/html": [
       " View run at <a href='https://wandb.ai/lol-predictor/lol-predictor/runs/febhie27' target=\"_blank\">https://wandb.ai/lol-predictor/lol-predictor/runs/febhie27</a>"
      ],
      "text/plain": [
       "<IPython.core.display.HTML object>"
      ]
     },
     "metadata": {},
     "output_type": "display_data"
    },
    {
     "data": {
      "text/html": [
       "<button onClick=\"this.nextSibling.style.display='block';this.style.display='none';\">Display W&B run</button><iframe src='https://wandb.ai/lol-predictor/lol-predictor/runs/febhie27?jupyter=true' style='border:none;width:100%;height:420px;display:none;'></iframe>"
      ],
      "text/plain": [
       "<wandb.sdk.wandb_run.Run at 0x7f24ff09c9a0>"
      ]
     },
     "execution_count": 2,
     "metadata": {},
     "output_type": "execute_result"
    }
   ],
   "source": [
    "with open('config.yml', mode=\"r\") as f:\n",
    "    config = yaml.safe_load(f)\n",
    "\n",
    "import wandb\n",
    "wandb.login()\n",
    "\n",
    "wandb.init(\n",
    "        project=\"lol-predictor\",\n",
    "        config=config['train'],\n",
    "        group='pytorch',\n",
    "        mode='online'\n",
    "    )"
   ]
  },
  {
   "cell_type": "code",
   "execution_count": 3,
   "id": "511ae9a3-41a8-4a37-be02-8febf39be1c0",
   "metadata": {},
   "outputs": [],
   "source": [
    "pd.set_option('display.max_columns', 500)\n",
    "DATA_FOLDER = '../data/'https://wandb.ai/lol-predictor/lol-predictor\n",
    "\n",
    "device = torch.device(\"cuda:0\" if torch.cuda.is_available() else \"cpu\")"
   ]
  },
  {
   "cell_type": "code",
   "execution_count": 4,
   "id": "81086128-1f17-46e8-b85c-84c709e570d9",
   "metadata": {},
   "outputs": [],
   "source": [
    "train = pd.read_csv(f\"{DATA_FOLDER}/train.csv\")\n",
    "test = pd.read_csv(f\"{DATA_FOLDER}/test.csv\")\n",
    "validation = pd.read_csv(f\"{DATA_FOLDER}/validation.csv\")"
   ]
  },
  {
   "cell_type": "code",
   "execution_count": 5,
   "id": "9a944f3f-9f54-4158-9b90-b0b50e2dcc79",
   "metadata": {},
   "outputs": [
    {
     "data": {
      "text/plain": [
       "(6382, 21)"
      ]
     },
     "execution_count": 5,
     "metadata": {},
     "output_type": "execute_result"
    }
   ],
   "source": [
    "train.shape"
   ]
  },
  {
   "cell_type": "code",
   "execution_count": 6,
   "id": "69c99e22-7275-4ca4-8a85-ce7fdcd511ce",
   "metadata": {},
   "outputs": [
    {
     "data": {
      "text/plain": [
       "(1482, 21)"
      ]
     },
     "execution_count": 6,
     "metadata": {},
     "output_type": "execute_result"
    }
   ],
   "source": [
    "test.shape"
   ]
  },
  {
   "cell_type": "code",
   "execution_count": 7,
   "id": "e8e77839-35c6-4be0-8d8c-84432121d4d3",
   "metadata": {},
   "outputs": [
    {
     "data": {
      "text/plain": [
       "(1482, 21)"
      ]
     },
     "execution_count": 7,
     "metadata": {},
     "output_type": "execute_result"
    }
   ],
   "source": [
    "validation.shape"
   ]
  },
  {
   "cell_type": "code",
   "execution_count": 8,
   "id": "b2c2bb66-4c9a-44de-b878-45af8b4651fb",
   "metadata": {},
   "outputs": [],
   "source": [
    "trainX = train.drop(columns={\"blueWins\"})\n",
    "trainy = train.blueWins"
   ]
  },
  {
   "cell_type": "code",
   "execution_count": 9,
   "id": "fa0dff97-1432-4434-b625-f8961a431019",
   "metadata": {},
   "outputs": [],
   "source": [
    "testX = test.drop(columns={\"blueWins\"})\n",
    "testy = test.blueWins"
   ]
  },
  {
   "cell_type": "code",
   "execution_count": 10,
   "id": "0bc5bf92-6e7f-4c8b-9306-c3e827c0882c",
   "metadata": {},
   "outputs": [],
   "source": [
    "nHidden = config['train']['inputNeurons']\n",
    "\n",
    "model = nn.Sequential(\n",
    "    nn.Linear(config[\"preparation\"][\"features_amount\"], nHidden[0]),\n",
    "    nn.ReLU(),\n",
    "    nn.Linear(nHidden[0], nHidden[1]),\n",
    "    nn.Dropout(0.5),\n",
    "    nn.ReLU(),\n",
    "    nn.Linear(nHidden[1], nHidden[2]),\n",
    "    nn.ReLU(),\n",
    "    nn.Linear(nHidden[2], nHidden[3]),\n",
    "    nn.Dropout(0.5),\n",
    "    nn.ReLU(),\n",
    "    nn.Linear(nHidden[3], 1),\n",
    "    nn.Sigmoid()\n",
    "    # Softmax\n",
    ")"
   ]
  },
  {
   "cell_type": "code",
   "execution_count": 11,
   "id": "ec34e490-6a30-48ed-8e62-cbc9acc6d183",
   "metadata": {},
   "outputs": [],
   "source": [
    "trainX = torch.tensor(trainX.values)\n",
    "testX = torch.tensor(testX.values)"
   ]
  },
  {
   "cell_type": "code",
   "execution_count": 12,
   "id": "dc19e67d-a337-4ece-8176-481b875badee",
   "metadata": {},
   "outputs": [],
   "source": [
    "trainy = torch.tensor(trainy.values)\n",
    "testy = torch.tensor(testy.values)\n",
    "\n",
    "# https://stackoverflow.com/a/60440460/12342419\n",
    "trainy = trainy.type(torch.LongTensor)\n",
    "testy = testy.type(torch.LongTensor)"
   ]
  },
  {
   "cell_type": "code",
   "execution_count": 13,
   "id": "28f526be-de12-4705-84b2-08872ae93997",
   "metadata": {},
   "outputs": [],
   "source": [
    "def compute_loss(y_hat, y):\n",
    "    return nn.BCELoss()(y_hat, y)"
   ]
  },
  {
   "cell_type": "code",
   "execution_count": 14,
   "id": "3b9ea774",
   "metadata": {},
   "outputs": [],
   "source": [
    "# Calculate accuracy (a classification metric)\n",
    "def accuracy_fn(y_true, y_pred):\n",
    "    correct = torch.eq(y_true, y_pred).sum().item() # torch.eq() calculates where two tensors are equal\n",
    "    acc = (correct / len(y_pred)) * 100\n",
    "    return acc"
   ]
  },
  {
   "cell_type": "code",
   "execution_count": 15,
   "id": "36ff4e17-a3d1-4932-9407-0d27a6cc27c3",
   "metadata": {},
   "outputs": [],
   "source": [
    "optimizer = torch.optim.Adam(model.parameters(), lr=0.001)"
   ]
  },
  {
   "cell_type": "code",
   "execution_count": 16,
   "id": "ad9cbe58-f854-4034-a37d-5cab41ef2937",
   "metadata": {},
   "outputs": [],
   "source": [
    "trainX = trainX.to(torch.float32).to(device)\n",
    "testX = testX.to(torch.float32).to(device)\n",
    "trainy = trainy.to(torch.float32).to(device)\n",
    "testy = testy.to(torch.float32).to(device)"
   ]
  },
  {
   "cell_type": "code",
   "execution_count": 17,
   "id": "7dc6fc93-50ac-4b00-b4e0-b7d0de2e93c3",
   "metadata": {},
   "outputs": [],
   "source": [
    "trainy = trainy.reshape((trainy.shape[0], 1))\n",
    "testy = testy.reshape((testy.shape[0], 1))"
   ]
  },
  {
   "cell_type": "code",
   "execution_count": 18,
   "id": "8dbb63ea-abe3-4f01-907a-52b9da83fd13",
   "metadata": {},
   "outputs": [
    {
     "data": {
      "text/plain": [
       "Sequential(\n",
       "  (0): Linear(in_features=20, out_features=128, bias=True)\n",
       "  (1): ReLU()\n",
       "  (2): Linear(in_features=128, out_features=32, bias=True)\n",
       "  (3): Dropout(p=0.5, inplace=False)\n",
       "  (4): ReLU()\n",
       "  (5): Linear(in_features=32, out_features=64, bias=True)\n",
       "  (6): ReLU()\n",
       "  (7): Linear(in_features=64, out_features=16, bias=True)\n",
       "  (8): Dropout(p=0.5, inplace=False)\n",
       "  (9): ReLU()\n",
       "  (10): Linear(in_features=16, out_features=1, bias=True)\n",
       "  (11): Sigmoid()\n",
       ")"
      ]
     },
     "execution_count": 18,
     "metadata": {},
     "output_type": "execute_result"
    }
   ],
   "source": [
    "model"
   ]
  },
  {
   "cell_type": "code",
   "execution_count": 19,
   "id": "130a06ff",
   "metadata": {},
   "outputs": [
    {
     "name": "stdout",
     "output_type": "stream",
     "text": [
      "cpu\n"
     ]
    }
   ],
   "source": [
    "model.to(device)\n",
    "print(device)"
   ]
  },
  {
   "cell_type": "code",
   "execution_count": 20,
   "id": "b2683360",
   "metadata": {},
   "outputs": [
    {
     "data": {
      "text/plain": [
       "False"
      ]
     },
     "execution_count": 20,
     "metadata": {},
     "output_type": "execute_result"
    }
   ],
   "source": [
    "torch.cuda.is_available()"
   ]
  },
  {
   "cell_type": "code",
   "execution_count": 21,
   "id": "bbbf6643",
   "metadata": {
    "tags": []
   },
   "outputs": [],
   "source": [
    "#torch.cuda.is_available()\n",
    "#torch.cuda.get_device_name(0)"
   ]
  },
  {
   "cell_type": "code",
   "execution_count": 22,
   "id": "99763484-c131-475d-9e4e-ef4114d3f919",
   "metadata": {},
   "outputs": [],
   "source": [
    "datasetTrain = torch.utils.data.TensorDataset(trainX, trainy)\n",
    "loaderTrain = torch.utils.data.DataLoader(\n",
    "    datasetTrain,\n",
    "    batch_size=config['train']['batchSize'],\n",
    "    shuffle=True\n",
    ")\n",
    "\n",
    "datasetTest = torch.utils.data.TensorDataset(testX, testy)\n",
    "loaderTest = torch.utils.data.DataLoader(\n",
    "    datasetTest,\n",
    "    batch_size=config['train']['batchSize'],\n",
    "    shuffle=True\n",
    ")"
   ]
  },
  {
   "cell_type": "code",
   "execution_count": 23,
   "id": "a42c8922-f05b-46f9-8240-1f0dd506ee9c",
   "metadata": {},
   "outputs": [
    {
     "name": "stderr",
     "output_type": "stream",
     "text": [
      "100%|████████████████████████████████████████| 200/200 [00:00<00:00, 389.81it/s]\n",
      "100%|██████████████████████████████████████████| 47/47 [00:00<00:00, 852.81it/s]\n"
     ]
    },
    {
     "name": "stdout",
     "output_type": "stream",
     "text": [
      "Epocha: 0\n",
      "Test accuracy: 70.4122340425532 - Test Loss: 0.3670816421508789 |<->| Train Accuracy: 61.841517857142854 - Train Loss: 0.5042333602905273\n"
     ]
    },
    {
     "name": "stderr",
     "output_type": "stream",
     "text": [
      "100%|████████████████████████████████████████| 200/200 [00:00<00:00, 394.50it/s]\n",
      "100%|█████████████████████████████████████████| 47/47 [00:00<00:00, 1466.56it/s]\n"
     ]
    },
    {
     "name": "stdout",
     "output_type": "stream",
     "text": [
      "Epocha: 1\n",
      "Test accuracy: 72.84574468085107 - Test Loss: 0.5369664430618286 |<->| Train Accuracy: 70.50669642857143 - Train Loss: 0.5290387868881226\n"
     ]
    },
    {
     "name": "stderr",
     "output_type": "stream",
     "text": [
      "100%|████████████████████████████████████████| 200/200 [00:00<00:00, 362.34it/s]\n",
      "100%|█████████████████████████████████████████| 47/47 [00:00<00:00, 1139.70it/s]\n"
     ]
    },
    {
     "name": "stdout",
     "output_type": "stream",
     "text": [
      "Epocha: 2\n",
      "Test accuracy: 71.56914893617021 - Test Loss: 0.6894038319587708 |<->| Train Accuracy: 71.72544642857143 - Train Loss: 0.5485965013504028\n"
     ]
    },
    {
     "name": "stderr",
     "output_type": "stream",
     "text": [
      "100%|████████████████████████████████████████| 200/200 [00:00<00:00, 423.03it/s]\n",
      "100%|██████████████████████████████████████████| 47/47 [00:00<00:00, 735.75it/s]\n"
     ]
    },
    {
     "name": "stdout",
     "output_type": "stream",
     "text": [
      "Epocha: 3\n",
      "Test accuracy: 71.11702127659575 - Test Loss: 0.35878098011016846 |<->| Train Accuracy: 70.72544642857143 - Train Loss: 0.48974528908729553\n"
     ]
    },
    {
     "name": "stderr",
     "output_type": "stream",
     "text": [
      "100%|████████████████████████████████████████| 200/200 [00:00<00:00, 374.11it/s]\n",
      "100%|██████████████████████████████████████████| 47/47 [00:00<00:00, 918.12it/s]\n"
     ]
    },
    {
     "name": "stdout",
     "output_type": "stream",
     "text": [
      "Epocha: 4\n",
      "Test accuracy: 70.05319148936171 - Test Loss: 0.4127795696258545 |<->| Train Accuracy: 71.33705357142857 - Train Loss: 0.6543170213699341\n"
     ]
    },
    {
     "name": "stderr",
     "output_type": "stream",
     "text": [
      "100%|████████████████████████████████████████| 200/200 [00:00<00:00, 291.59it/s]\n",
      "100%|██████████████████████████████████████████| 47/47 [00:00<00:00, 867.91it/s]\n"
     ]
    },
    {
     "name": "stdout",
     "output_type": "stream",
     "text": [
      "Epocha: 5\n",
      "Test accuracy: 69.98670212765957 - Test Loss: 0.47996991872787476 |<->| Train Accuracy: 70.98660714285715 - Train Loss: 0.43789562582969666\n"
     ]
    },
    {
     "name": "stderr",
     "output_type": "stream",
     "text": [
      "100%|████████████████████████████████████████| 200/200 [00:00<00:00, 262.56it/s]\n",
      "100%|██████████████████████████████████████████| 47/47 [00:00<00:00, 597.32it/s]\n"
     ]
    },
    {
     "name": "stdout",
     "output_type": "stream",
     "text": [
      "Epocha: 6\n",
      "Test accuracy: 72.56648936170212 - Test Loss: 0.9187560081481934 |<->| Train Accuracy: 71.27901785714285 - Train Loss: 0.43450823426246643\n"
     ]
    },
    {
     "name": "stderr",
     "output_type": "stream",
     "text": [
      "100%|████████████████████████████████████████| 200/200 [00:00<00:00, 254.37it/s]\n",
      "100%|█████████████████████████████████████████| 47/47 [00:00<00:00, 1126.55it/s]\n"
     ]
    },
    {
     "name": "stdout",
     "output_type": "stream",
     "text": [
      "Epocha: 7\n",
      "Test accuracy: 72.03457446808511 - Test Loss: 0.5683807730674744 |<->| Train Accuracy: 71.64508928571428 - Train Loss: 0.6355012059211731\n"
     ]
    },
    {
     "name": "stderr",
     "output_type": "stream",
     "text": [
      "100%|████████████████████████████████████████| 200/200 [00:00<00:00, 307.10it/s]\n",
      "100%|██████████████████████████████████████████| 47/47 [00:00<00:00, 819.37it/s]\n"
     ]
    },
    {
     "name": "stdout",
     "output_type": "stream",
     "text": [
      "Epocha: 8\n",
      "Test accuracy: 72.43351063829788 - Test Loss: 0.6071892976760864 |<->| Train Accuracy: 71.15848214285715 - Train Loss: 0.49359726905822754\n"
     ]
    },
    {
     "name": "stderr",
     "output_type": "stream",
     "text": [
      "100%|████████████████████████████████████████| 200/200 [00:00<00:00, 270.27it/s]\n",
      "100%|█████████████████████████████████████████| 47/47 [00:00<00:00, 1027.49it/s]\n"
     ]
    },
    {
     "name": "stdout",
     "output_type": "stream",
     "text": [
      "Epocha: 9\n",
      "Test accuracy: 73.09840425531915 - Test Loss: 0.7083016037940979 |<->| Train Accuracy: 71.49776785714285 - Train Loss: 0.8716331720352173\n"
     ]
    },
    {
     "name": "stderr",
     "output_type": "stream",
     "text": [
      "100%|████████████████████████████████████████| 200/200 [00:00<00:00, 295.28it/s]\n",
      "100%|██████████████████████████████████████████| 47/47 [00:00<00:00, 753.68it/s]\n"
     ]
    },
    {
     "name": "stdout",
     "output_type": "stream",
     "text": [
      "Epocha: 10\n",
      "Test accuracy: 73.77659574468085 - Test Loss: 0.4483111798763275 |<->| Train Accuracy: 71.85044642857143 - Train Loss: 0.5796962380409241\n"
     ]
    },
    {
     "name": "stderr",
     "output_type": "stream",
     "text": [
      "100%|████████████████████████████████████████| 200/200 [00:00<00:00, 287.84it/s]\n",
      "100%|██████████████████████████████████████████| 47/47 [00:00<00:00, 942.45it/s]\n"
     ]
    },
    {
     "name": "stdout",
     "output_type": "stream",
     "text": [
      "Epocha: 11\n",
      "Test accuracy: 72.06117021276596 - Test Loss: 0.6440675854682922 |<->| Train Accuracy: 71.41741071428572 - Train Loss: 0.8614518046379089\n"
     ]
    },
    {
     "name": "stderr",
     "output_type": "stream",
     "text": [
      "100%|████████████████████████████████████████| 200/200 [00:00<00:00, 297.53it/s]\n",
      "100%|█████████████████████████████████████████| 47/47 [00:00<00:00, 1140.61it/s]\n"
     ]
    },
    {
     "name": "stdout",
     "output_type": "stream",
     "text": [
      "Epocha: 12\n",
      "Test accuracy: 72.2872340425532 - Test Loss: 0.7232044339179993 |<->| Train Accuracy: 71.87723214285715 - Train Loss: 0.6560096740722656\n"
     ]
    },
    {
     "name": "stderr",
     "output_type": "stream",
     "text": [
      "100%|████████████████████████████████████████| 200/200 [00:00<00:00, 264.45it/s]\n",
      "100%|██████████████████████████████████████████| 47/47 [00:00<00:00, 468.05it/s]\n"
     ]
    },
    {
     "name": "stdout",
     "output_type": "stream",
     "text": [
      "Epocha: 13\n",
      "Test accuracy: 71.40957446808511 - Test Loss: 0.3858626186847687 |<->| Train Accuracy: 71.88392857142857 - Train Loss: 0.6640360951423645\n"
     ]
    },
    {
     "name": "stderr",
     "output_type": "stream",
     "text": [
      "100%|████████████████████████████████████████| 200/200 [00:00<00:00, 340.97it/s]\n",
      "100%|█████████████████████████████████████████| 47/47 [00:00<00:00, 1623.88it/s]\n"
     ]
    },
    {
     "name": "stdout",
     "output_type": "stream",
     "text": [
      "Epocha: 14\n",
      "Test accuracy: 72.63297872340425 - Test Loss: 0.7518929243087769 |<->| Train Accuracy: 71.953125 - Train Loss: 0.7175859808921814\n"
     ]
    },
    {
     "name": "stderr",
     "output_type": "stream",
     "text": [
      "100%|████████████████████████████████████████| 200/200 [00:00<00:00, 403.27it/s]\n",
      "100%|█████████████████████████████████████████| 47/47 [00:00<00:00, 1421.55it/s]\n"
     ]
    },
    {
     "name": "stdout",
     "output_type": "stream",
     "text": [
      "Epocha: 15\n",
      "Test accuracy: 72.83244680851064 - Test Loss: 0.6890056133270264 |<->| Train Accuracy: 71.85714285714285 - Train Loss: 0.9008685350418091\n"
     ]
    },
    {
     "name": "stderr",
     "output_type": "stream",
     "text": [
      "100%|████████████████████████████████████████| 200/200 [00:00<00:00, 402.16it/s]\n",
      "100%|█████████████████████████████████████████| 47/47 [00:00<00:00, 1314.80it/s]\n"
     ]
    },
    {
     "name": "stdout",
     "output_type": "stream",
     "text": [
      "Epocha: 16\n",
      "Test accuracy: 72.06117021276596 - Test Loss: 0.7099608182907104 |<->| Train Accuracy: 72.19419642857143 - Train Loss: 0.4952663481235504\n"
     ]
    },
    {
     "name": "stderr",
     "output_type": "stream",
     "text": [
      "100%|████████████████████████████████████████| 200/200 [00:00<00:00, 452.94it/s]\n",
      "100%|█████████████████████████████████████████| 47/47 [00:00<00:00, 1489.30it/s]\n"
     ]
    },
    {
     "name": "stdout",
     "output_type": "stream",
     "text": [
      "Epocha: 17\n",
      "Test accuracy: 72.65957446808511 - Test Loss: 0.4711580276489258 |<->| Train Accuracy: 71.98883928571428 - Train Loss: 0.6484766602516174\n"
     ]
    },
    {
     "name": "stderr",
     "output_type": "stream",
     "text": [
      "100%|████████████████████████████████████████| 200/200 [00:00<00:00, 422.61it/s]\n",
      "100%|█████████████████████████████████████████| 47/47 [00:00<00:00, 1185.32it/s]\n"
     ]
    },
    {
     "name": "stdout",
     "output_type": "stream",
     "text": [
      "Epocha: 18\n",
      "Test accuracy: 72.96542553191489 - Test Loss: 0.5467278361320496 |<->| Train Accuracy: 71.91517857142857 - Train Loss: 0.5870242118835449\n"
     ]
    },
    {
     "name": "stderr",
     "output_type": "stream",
     "text": [
      "100%|████████████████████████████████████████| 200/200 [00:00<00:00, 371.64it/s]\n",
      "100%|█████████████████████████████████████████| 47/47 [00:00<00:00, 1189.03it/s]\n"
     ]
    },
    {
     "name": "stdout",
     "output_type": "stream",
     "text": [
      "Epocha: 19\n",
      "Test accuracy: 72.99202127659575 - Test Loss: 0.3481162190437317 |<->| Train Accuracy: 71.90178571428572 - Train Loss: 0.8739053010940552\n"
     ]
    },
    {
     "name": "stderr",
     "output_type": "stream",
     "text": [
      "100%|████████████████████████████████████████| 200/200 [00:00<00:00, 237.15it/s]\n",
      "100%|██████████████████████████████████████████| 47/47 [00:00<00:00, 649.69it/s]\n"
     ]
    },
    {
     "name": "stdout",
     "output_type": "stream",
     "text": [
      "Epocha: 20\n",
      "Test accuracy: 72.16755319148936 - Test Loss: 0.4022893011569977 |<->| Train Accuracy: 72.13839285714285 - Train Loss: 0.5172312259674072\n"
     ]
    },
    {
     "name": "stderr",
     "output_type": "stream",
     "text": [
      "100%|████████████████████████████████████████| 200/200 [00:00<00:00, 217.11it/s]\n",
      "100%|██████████████████████████████████████████| 47/47 [00:00<00:00, 884.79it/s]\n"
     ]
    },
    {
     "name": "stdout",
     "output_type": "stream",
     "text": [
      "Epocha: 21\n",
      "Test accuracy: 72.22074468085107 - Test Loss: 0.739216148853302 |<->| Train Accuracy: 71.97544642857143 - Train Loss: 0.49869081377983093\n"
     ]
    },
    {
     "name": "stderr",
     "output_type": "stream",
     "text": [
      "100%|████████████████████████████████████████| 200/200 [00:00<00:00, 253.63it/s]\n",
      "100%|█████████████████████████████████████████| 47/47 [00:00<00:00, 1031.13it/s]\n"
     ]
    },
    {
     "name": "stdout",
     "output_type": "stream",
     "text": [
      "Epocha: 22\n",
      "Test accuracy: 72.68617021276596 - Test Loss: 0.6540364027023315 |<->| Train Accuracy: 72.02901785714285 - Train Loss: 0.5886226296424866\n"
     ]
    },
    {
     "name": "stderr",
     "output_type": "stream",
     "text": [
      "100%|████████████████████████████████████████| 200/200 [00:00<00:00, 257.22it/s]\n",
      "100%|██████████████████████████████████████████| 47/47 [00:00<00:00, 794.38it/s]\n"
     ]
    },
    {
     "name": "stdout",
     "output_type": "stream",
     "text": [
      "Epocha: 23\n",
      "Test accuracy: 72.18085106382979 - Test Loss: 0.6455177068710327 |<->| Train Accuracy: 71.97767857142857 - Train Loss: 0.5390510559082031\n"
     ]
    },
    {
     "name": "stderr",
     "output_type": "stream",
     "text": [
      "100%|████████████████████████████████████████| 200/200 [00:00<00:00, 279.25it/s]\n",
      "100%|██████████████████████████████████████████| 47/47 [00:00<00:00, 905.94it/s]\n"
     ]
    },
    {
     "name": "stdout",
     "output_type": "stream",
     "text": [
      "Epocha: 24\n",
      "Test accuracy: 72.44680851063829 - Test Loss: 0.44976910948753357 |<->| Train Accuracy: 72.21651785714285 - Train Loss: 0.5533639192581177\n"
     ]
    },
    {
     "name": "stderr",
     "output_type": "stream",
     "text": [
      "100%|████████████████████████████████████████| 200/200 [00:00<00:00, 277.70it/s]\n",
      "100%|██████████████████████████████████████████| 47/47 [00:00<00:00, 703.85it/s]\n"
     ]
    },
    {
     "name": "stdout",
     "output_type": "stream",
     "text": [
      "Epocha: 25\n",
      "Test accuracy: 72.16755319148936 - Test Loss: 0.6650807857513428 |<->| Train Accuracy: 71.61383928571428 - Train Loss: 0.6830210089683533\n"
     ]
    },
    {
     "name": "stderr",
     "output_type": "stream",
     "text": [
      "100%|████████████████████████████████████████| 200/200 [00:00<00:00, 319.20it/s]\n",
      "100%|█████████████████████████████████████████| 47/47 [00:00<00:00, 1195.32it/s]\n"
     ]
    },
    {
     "name": "stdout",
     "output_type": "stream",
     "text": [
      "Epocha: 26\n",
      "Test accuracy: 71.95478723404256 - Test Loss: 0.6194502115249634 |<->| Train Accuracy: 71.88392857142857 - Train Loss: 0.5219873785972595\n"
     ]
    },
    {
     "name": "stderr",
     "output_type": "stream",
     "text": [
      "100%|████████████████████████████████████████| 200/200 [00:00<00:00, 343.18it/s]\n",
      "100%|██████████████████████████████████████████| 47/47 [00:00<00:00, 897.31it/s]\n"
     ]
    },
    {
     "name": "stdout",
     "output_type": "stream",
     "text": [
      "Epocha: 27\n",
      "Test accuracy: 72.56648936170212 - Test Loss: 0.49438056349754333 |<->| Train Accuracy: 72.52901785714285 - Train Loss: 0.513758659362793\n"
     ]
    },
    {
     "name": "stderr",
     "output_type": "stream",
     "text": [
      "100%|████████████████████████████████████████| 200/200 [00:00<00:00, 236.23it/s]\n",
      "100%|██████████████████████████████████████████| 47/47 [00:00<00:00, 727.73it/s]\n"
     ]
    },
    {
     "name": "stdout",
     "output_type": "stream",
     "text": [
      "Epocha: 28\n",
      "Test accuracy: 72.72606382978724 - Test Loss: 0.4582216739654541 |<->| Train Accuracy: 72.29464285714285 - Train Loss: 0.6030136346817017\n"
     ]
    },
    {
     "name": "stderr",
     "output_type": "stream",
     "text": [
      "100%|████████████████████████████████████████| 200/200 [00:00<00:00, 301.48it/s]\n",
      "100%|█████████████████████████████████████████| 47/47 [00:00<00:00, 1093.11it/s]\n"
     ]
    },
    {
     "name": "stdout",
     "output_type": "stream",
     "text": [
      "Epocha: 29\n",
      "Test accuracy: 71.21010638297872 - Test Loss: 0.5492842793464661 |<->| Train Accuracy: 72.40401785714285 - Train Loss: 0.7490636110305786\n"
     ]
    },
    {
     "name": "stderr",
     "output_type": "stream",
     "text": [
      "100%|████████████████████████████████████████| 200/200 [00:00<00:00, 319.45it/s]\n",
      "100%|██████████████████████████████████████████| 47/47 [00:00<00:00, 999.66it/s]\n"
     ]
    },
    {
     "name": "stdout",
     "output_type": "stream",
     "text": [
      "Epocha: 30\n",
      "Test accuracy: 71.95478723404256 - Test Loss: 0.7574039697647095 |<->| Train Accuracy: 72.32589285714285 - Train Loss: 0.5701161026954651\n"
     ]
    },
    {
     "name": "stderr",
     "output_type": "stream",
     "text": [
      "100%|████████████████████████████████████████| 200/200 [00:00<00:00, 229.04it/s]\n",
      "100%|██████████████████████████████████████████| 47/47 [00:00<00:00, 717.97it/s]\n"
     ]
    },
    {
     "name": "stdout",
     "output_type": "stream",
     "text": [
      "Epocha: 31\n",
      "Test accuracy: 72.02127659574468 - Test Loss: 0.5584195852279663 |<->| Train Accuracy: 72.16964285714285 - Train Loss: 0.4620020091533661\n"
     ]
    },
    {
     "name": "stderr",
     "output_type": "stream",
     "text": [
      "100%|████████████████████████████████████████| 200/200 [00:00<00:00, 285.02it/s]\n",
      "100%|██████████████████████████████████████████| 47/47 [00:00<00:00, 883.43it/s]\n"
     ]
    },
    {
     "name": "stdout",
     "output_type": "stream",
     "text": [
      "Epocha: 32\n",
      "Test accuracy: 72.43351063829788 - Test Loss: 0.595725417137146 |<->| Train Accuracy: 71.95535714285715 - Train Loss: 0.4663875699043274\n"
     ]
    },
    {
     "name": "stderr",
     "output_type": "stream",
     "text": [
      "100%|████████████████████████████████████████| 200/200 [00:00<00:00, 293.66it/s]\n",
      "100%|█████████████████████████████████████████| 47/47 [00:00<00:00, 1035.35it/s]\n"
     ]
    },
    {
     "name": "stdout",
     "output_type": "stream",
     "text": [
      "Epocha: 33\n",
      "Test accuracy: 72.77925531914893 - Test Loss: 0.5110211968421936 |<->| Train Accuracy: 72.62276785714285 - Train Loss: 0.6423803567886353\n"
     ]
    },
    {
     "name": "stderr",
     "output_type": "stream",
     "text": [
      "100%|████████████████████████████████████████| 200/200 [00:00<00:00, 256.29it/s]\n",
      "100%|██████████████████████████████████████████| 47/47 [00:00<00:00, 627.45it/s]\n"
     ]
    },
    {
     "name": "stdout",
     "output_type": "stream",
     "text": [
      "Epocha: 34\n",
      "Test accuracy: 71.95478723404256 - Test Loss: 0.7416544556617737 |<->| Train Accuracy: 72.16517857142857 - Train Loss: 0.5683255195617676\n"
     ]
    },
    {
     "name": "stderr",
     "output_type": "stream",
     "text": [
      "100%|████████████████████████████████████████| 200/200 [00:00<00:00, 243.10it/s]\n",
      "100%|██████████████████████████████████████████| 47/47 [00:00<00:00, 823.61it/s]\n"
     ]
    },
    {
     "name": "stdout",
     "output_type": "stream",
     "text": [
      "Epocha: 35\n",
      "Test accuracy: 71.47606382978724 - Test Loss: 0.7020061612129211 |<->| Train Accuracy: 72.20089285714285 - Train Loss: 0.5981680750846863\n"
     ]
    },
    {
     "name": "stderr",
     "output_type": "stream",
     "text": [
      "100%|████████████████████████████████████████| 200/200 [00:00<00:00, 309.03it/s]\n",
      "100%|██████████████████████████████████████████| 47/47 [00:00<00:00, 795.14it/s]\n"
     ]
    },
    {
     "name": "stdout",
     "output_type": "stream",
     "text": [
      "Epocha: 36\n",
      "Test accuracy: 72.79255319148936 - Test Loss: 0.3532429337501526 |<->| Train Accuracy: 71.97767857142857 - Train Loss: 0.539454996585846\n"
     ]
    },
    {
     "name": "stderr",
     "output_type": "stream",
     "text": [
      "100%|████████████████████████████████████████| 200/200 [00:00<00:00, 304.04it/s]\n",
      "100%|██████████████████████████████████████████| 47/47 [00:00<00:00, 710.53it/s]\n"
     ]
    },
    {
     "name": "stdout",
     "output_type": "stream",
     "text": [
      "Epocha: 37\n",
      "Test accuracy: 72.27393617021276 - Test Loss: 0.6807795763015747 |<->| Train Accuracy: 71.859375 - Train Loss: 0.674898624420166\n"
     ]
    },
    {
     "name": "stderr",
     "output_type": "stream",
     "text": [
      "100%|████████████████████████████████████████| 200/200 [00:00<00:00, 265.02it/s]\n",
      "100%|██████████████████████████████████████████| 47/47 [00:00<00:00, 883.56it/s]\n"
     ]
    },
    {
     "name": "stdout",
     "output_type": "stream",
     "text": [
      "Epocha: 38\n",
      "Test accuracy: 72.14095744680851 - Test Loss: 0.6984880566596985 |<->| Train Accuracy: 72.35714285714285 - Train Loss: 0.6887704133987427\n"
     ]
    },
    {
     "name": "stderr",
     "output_type": "stream",
     "text": [
      "100%|████████████████████████████████████████| 200/200 [00:00<00:00, 333.64it/s]\n",
      "100%|█████████████████████████████████████████| 47/47 [00:00<00:00, 1204.98it/s]\n"
     ]
    },
    {
     "name": "stdout",
     "output_type": "stream",
     "text": [
      "Epocha: 39\n",
      "Test accuracy: 72.56648936170212 - Test Loss: 0.4764898717403412 |<->| Train Accuracy: 72.12723214285715 - Train Loss: 0.6445883512496948\n"
     ]
    },
    {
     "name": "stderr",
     "output_type": "stream",
     "text": [
      "100%|████████████████████████████████████████| 200/200 [00:00<00:00, 341.50it/s]\n",
      "100%|█████████████████████████████████████████| 47/47 [00:00<00:00, 1004.20it/s]\n"
     ]
    },
    {
     "name": "stdout",
     "output_type": "stream",
     "text": [
      "Epocha: 40\n",
      "Test accuracy: 72.16755319148936 - Test Loss: 0.4680415093898773 |<->| Train Accuracy: 72.88839285714285 - Train Loss: 0.5006867051124573\n"
     ]
    },
    {
     "name": "stderr",
     "output_type": "stream",
     "text": [
      "100%|████████████████████████████████████████| 200/200 [00:00<00:00, 286.30it/s]\n",
      "100%|█████████████████████████████████████████| 47/47 [00:00<00:00, 1300.56it/s]\n"
     ]
    },
    {
     "name": "stdout",
     "output_type": "stream",
     "text": [
      "Epocha: 41\n",
      "Test accuracy: 72.30053191489361 - Test Loss: 0.5580044984817505 |<->| Train Accuracy: 72.42410714285715 - Train Loss: 0.4763225018978119\n"
     ]
    },
    {
     "name": "stderr",
     "output_type": "stream",
     "text": [
      "100%|████████████████████████████████████████| 200/200 [00:00<00:00, 357.56it/s]\n",
      "100%|██████████████████████████████████████████| 47/47 [00:00<00:00, 893.36it/s]\n"
     ]
    },
    {
     "name": "stdout",
     "output_type": "stream",
     "text": [
      "Epocha: 42\n",
      "Test accuracy: 71.95478723404256 - Test Loss: 0.5780433416366577 |<->| Train Accuracy: 72.37946428571428 - Train Loss: 0.5773879289627075\n"
     ]
    },
    {
     "name": "stderr",
     "output_type": "stream",
     "text": [
      "100%|████████████████████████████████████████| 200/200 [00:00<00:00, 332.59it/s]\n",
      "100%|██████████████████████████████████████████| 47/47 [00:00<00:00, 993.36it/s]\n"
     ]
    },
    {
     "name": "stdout",
     "output_type": "stream",
     "text": [
      "Epocha: 43\n",
      "Test accuracy: 72.76595744680851 - Test Loss: 0.6154333353042603 |<->| Train Accuracy: 72.52901785714285 - Train Loss: 0.4359847903251648\n"
     ]
    },
    {
     "name": "stderr",
     "output_type": "stream",
     "text": [
      "100%|████████████████████████████████████████| 200/200 [00:00<00:00, 286.56it/s]\n",
      "100%|█████████████████████████████████████████| 47/47 [00:00<00:00, 1094.83it/s]\n"
     ]
    },
    {
     "name": "stdout",
     "output_type": "stream",
     "text": [
      "Epocha: 44\n",
      "Test accuracy: 72.36702127659575 - Test Loss: 0.5598101019859314 |<->| Train Accuracy: 72.54910714285715 - Train Loss: 0.49778637290000916\n"
     ]
    },
    {
     "name": "stderr",
     "output_type": "stream",
     "text": [
      "100%|████████████████████████████████████████| 200/200 [00:00<00:00, 372.37it/s]\n",
      "100%|█████████████████████████████████████████| 47/47 [00:00<00:00, 1385.06it/s]\n"
     ]
    },
    {
     "name": "stdout",
     "output_type": "stream",
     "text": [
      "Epocha: 45\n",
      "Test accuracy: 71.875 - Test Loss: 0.6889306902885437 |<->| Train Accuracy: 72.76116071428572 - Train Loss: 0.4063968062400818\n"
     ]
    },
    {
     "name": "stderr",
     "output_type": "stream",
     "text": [
      "100%|████████████████████████████████████████| 200/200 [00:00<00:00, 412.43it/s]\n",
      "100%|█████████████████████████████████████████| 47/47 [00:00<00:00, 1255.27it/s]\n"
     ]
    },
    {
     "name": "stdout",
     "output_type": "stream",
     "text": [
      "Epocha: 46\n",
      "Test accuracy: 72.07446808510639 - Test Loss: 0.807436466217041 |<->| Train Accuracy: 72.56026785714285 - Train Loss: 0.7089881300926208\n"
     ]
    },
    {
     "name": "stderr",
     "output_type": "stream",
     "text": [
      "100%|████████████████████████████████████████| 200/200 [00:00<00:00, 385.37it/s]\n",
      "100%|█████████████████████████████████████████| 47/47 [00:00<00:00, 1135.07it/s]\n"
     ]
    },
    {
     "name": "stdout",
     "output_type": "stream",
     "text": [
      "Epocha: 47\n",
      "Test accuracy: 72.89893617021276 - Test Loss: 0.8236886262893677 |<->| Train Accuracy: 72.30357142857143 - Train Loss: 0.46712496876716614\n"
     ]
    },
    {
     "name": "stderr",
     "output_type": "stream",
     "text": [
      "100%|████████████████████████████████████████| 200/200 [00:00<00:00, 390.69it/s]\n",
      "100%|█████████████████████████████████████████| 47/47 [00:00<00:00, 1367.24it/s]\n"
     ]
    },
    {
     "name": "stdout",
     "output_type": "stream",
     "text": [
      "Epocha: 48\n",
      "Test accuracy: 72.77925531914893 - Test Loss: 0.5193194150924683 |<->| Train Accuracy: 72.97991071428572 - Train Loss: 0.2540875971317291\n"
     ]
    },
    {
     "name": "stderr",
     "output_type": "stream",
     "text": [
      "100%|████████████████████████████████████████| 200/200 [00:00<00:00, 330.94it/s]\n",
      "100%|█████████████████████████████████████████| 47/47 [00:00<00:00, 1053.63it/s]"
     ]
    },
    {
     "name": "stdout",
     "output_type": "stream",
     "text": [
      "Epocha: 49\n",
      "Test accuracy: 72.52659574468085 - Test Loss: 0.539685070514679 |<->| Train Accuracy: 72.51785714285715 - Train Loss: 0.5275357365608215\n",
      "tensor(0.5275, grad_fn=<BinaryCrossEntropyBackward0>)\n"
     ]
    },
    {
     "name": "stderr",
     "output_type": "stream",
     "text": [
      "\n"
     ]
    }
   ],
   "source": [
    "for n in range(config['train']['epochs']):\n",
    "    model.train()\n",
    "    accuracy_sum = 0\n",
    "    loss_sum = 0\n",
    "\n",
    "    for (x,y) in tqdm(loaderTrain):\n",
    "        y_pred = model(x)\n",
    "        loss = compute_loss(y_pred, y)\n",
    "\n",
    "        optimizer.zero_grad()\n",
    "        loss.backward()\n",
    "        optimizer.step()\n",
    "\n",
    "        loss_sum = loss_sum + loss.cpu().detach().item()\n",
    "        accuracy_sum = accuracy_sum + accuracy_fn(y_true=y, y_pred=torch.round(y_pred))\n",
    "\n",
    "    train_accuracy = accuracy_sum / len(loaderTrain)\n",
    "    train_loss = loss_sum / len(loaderTrain)\n",
    "\n",
    "    with torch.no_grad():\n",
    "        accuracy_sum = 0\n",
    "        loss_sum = 0\n",
    "\n",
    "        for (x,y) in tqdm(loaderTest):\n",
    "            y_pred = model(x)\n",
    "            val_loss = compute_loss(y_pred, y)\n",
    "\n",
    "            loss_sum = loss_sum + val_loss.cpu().detach().item()\n",
    "            accuracy_sum = accuracy_sum + accuracy_fn(y_true=y, y_pred=torch.round(y_pred))\n",
    "\n",
    "    test_accuracy = accuracy_sum / len(loaderTest)\n",
    "    train_loss = loss_sum / len(loaderTest)\n",
    "\n",
    "\n",
    "    print(f'Epocha: {n}')\n",
    "    print(f'Test accuracy: {test_accuracy} - Test Loss: {val_loss} |<->| Train Accuracy: {train_accuracy} - Train Loss: {loss}')\n",
    "    wandb.log({'epoch': n, 'test_accuracy': test_accuracy, 'loss_val': val_loss, 'train_accuracy': train_accuracy, 'loss_train': loss})\n",
    "print(loss)"
   ]
  },
  {
   "cell_type": "code",
   "execution_count": 24,
   "id": "59902c66-13a8-481e-9be5-219dca7fc929",
   "metadata": {},
   "outputs": [
    {
     "ename": "NameError",
     "evalue": "name 'fnashfujnafasf' is not defined",
     "output_type": "error",
     "traceback": [
      "\u001b[0;31m---------------------------------------------------------------------------\u001b[0m",
      "\u001b[0;31mNameError\u001b[0m                                 Traceback (most recent call last)",
      "\u001b[0;32m/tmp/ipykernel_108206/1417722645.py\u001b[0m in \u001b[0;36m<module>\u001b[0;34m\u001b[0m\n\u001b[0;32m----> 1\u001b[0;31m \u001b[0mfnashfujnafasf\u001b[0m \u001b[0;34m+\u001b[0m \u001b[0masfbafhasnfaklol\u001b[0m\u001b[0;34m-\u001b[0m\u001b[0mpredictor\u001b[0m\u001b[0;34m\u001b[0m\u001b[0;34m\u001b[0m\u001b[0m\n\u001b[0m",
      "\u001b[0;31mNameError\u001b[0m: name 'fnashfujnafasf' is not defined"
     ]
    }
   ],
   "source": [
    "fnashfujnafasf + asfbafhasnfaklol-predictor"
   ]
  },
  {
   "cell_type": "markdown",
   "id": "52e45216-6aca-460c-8ecc-b43daf9b1843",
   "metadata": {},
   "source": [
    "## Tensorflow implementation"
   ]
  },
  {
   "cell_type": "code",
   "execution_count": 31,
   "id": "a10d1a6e-2753-479d-bcdb-c0fed4dbfe0e",
   "metadata": {},
   "outputs": [],
   "source": [
    "import pandas as pd\n",
    "import matplotlib\n",
    "from matplotlib import pyplot as plt\n",
    "import seaborn as sns\n",
    "import tempfile\n",
    "import os\n",
    "\n",
    "import tensorflow as tf\n",
    "from tensorflow import keras"
   ]
  },
  {
   "cell_type": "code",
   "execution_count": 32,
   "id": "8dbc0241-43e5-40b8-999c-86a117146ec0",
   "metadata": {},
   "outputs": [],
   "source": [
    "nHidden = config['train']['inputNeurons']\n",
    "\n",
    "tf_model = keras.Sequential([\n",
    "    keras.layers.Dense(units=20, activation='relu'),\n",
    "    keras.layers.Dense(units=nHidden[0], activation='relu'),\n",
    "    keras.layers.Dense(units=nHidden[1], activation='relu'),\n",
    "    keras.layers.Dense(units=nHidden[2], activation='relu'),\n",
    "    keras.layers.Dense(units=nHidden[3], activation='relu'),  #activation='softmax'\n",
    "    keras.layers.Dense(units=1, activation='sigmoid')\n",
    "])\n",
    "\n",
    "tf_model.compile(optimizer='adam', \n",
    "              loss=keras.losses.BinaryCrossentropy(from_logits=True),\n",
    "              metrics=['accuracy'])"
   ]
  },
  {
   "cell_type": "code",
   "execution_count": 33,
   "id": "71c12c75-af4b-4927-b112-0e685d0e821c",
   "metadata": {},
   "outputs": [],
   "source": [
    "trainX = train.drop(columns={\"blueWins\"})\n",
    "trainy = train['blueWins']\n",
    "testX = test.drop(columns={\"blueWins\"})\n",
    "testy = test['blueWins']"
   ]
  },
  {
   "cell_type": "code",
   "execution_count": null,
   "id": "f4d86b5c-361b-4bad-ba98-07dd0b6fff05",
   "metadata": {
    "jupyter": {
     "source_hidden": true
    },
    "tags": []
   },
   "outputs": [],
   "source": [
    "tf_model.fit(trainX, trainy, validation_data=(testX, testy), epochs=100, batch_size=32)"
   ]
  },
  {
   "cell_type": "code",
   "execution_count": null,
   "id": "d2591864-51f9-452f-8657-440df4b4afa8",
   "metadata": {},
   "outputs": [
    {
     "name": "stdout",
     "output_type": "stream",
     "text": [
      "Epoch 1/50\n",
      "100/100 [==============================] - 0s 4ms/step - loss: 0.5491 - accuracy: 0.7195 - val_loss: 0.5566 - val_accuracy: 0.7287\n",
      "Epoch 2/50\n",
      " 27/100 [=======>......................] - ETA: 0s - loss: 0.5540 - accuracy: 0.7182"
     ]
    },
    {
     "name": "stderr",
     "output_type": "stream",
     "text": [
      "/home/xschon/.local/lib/python3.10/site-packages/keras/backend.py:5676: UserWarning: \"`binary_crossentropy` received `from_logits=True`, but the `output` argument was produced by a Sigmoid activation and thus does not represent logits. Was this intended?\n",
      "  output, from_logits = _get_logits(\n"
     ]
    },
    {
     "name": "stdout",
     "output_type": "stream",
     "text": [
      "100/100 [==============================] - 0s 2ms/step - loss: 0.5482 - accuracy: 0.7181 - val_loss: 0.5460 - val_accuracy: 0.7301\n",
      "Epoch 3/50\n",
      "100/100 [==============================] - 0s 3ms/step - loss: 0.5514 - accuracy: 0.7200 - val_loss: 0.5482 - val_accuracy: 0.7274\n",
      "Epoch 4/50\n",
      "100/100 [==============================] - 0s 2ms/step - loss: 0.5494 - accuracy: 0.7231 - val_loss: 0.5577 - val_accuracy: 0.7179\n",
      "Epoch 5/50\n",
      "100/100 [==============================] - 0s 2ms/step - loss: 0.5443 - accuracy: 0.7242 - val_loss: 0.5528 - val_accuracy: 0.7287\n",
      "Epoch 6/50\n",
      "100/100 [==============================] - 0s 2ms/step - loss: 0.5432 - accuracy: 0.7241 - val_loss: 0.5486 - val_accuracy: 0.7260\n",
      "Epoch 7/50\n",
      "100/100 [==============================] - 0s 2ms/step - loss: 0.5445 - accuracy: 0.7223 - val_loss: 0.5466 - val_accuracy: 0.7227\n",
      "Epoch 8/50\n",
      "100/100 [==============================] - 0s 2ms/step - loss: 0.5445 - accuracy: 0.7202 - val_loss: 0.5448 - val_accuracy: 0.7308\n",
      "Epoch 9/50\n",
      "100/100 [==============================] - 0s 2ms/step - loss: 0.5432 - accuracy: 0.7242 - val_loss: 0.5448 - val_accuracy: 0.7294\n",
      "Epoch 10/50\n",
      "100/100 [==============================] - 0s 2ms/step - loss: 0.5443 - accuracy: 0.7247 - val_loss: 0.5565 - val_accuracy: 0.7186\n",
      "Epoch 11/50\n",
      "100/100 [==============================] - 0s 2ms/step - loss: 0.5444 - accuracy: 0.7212 - val_loss: 0.5454 - val_accuracy: 0.7328\n",
      "Epoch 12/50\n",
      "100/100 [==============================] - 0s 2ms/step - loss: 0.5413 - accuracy: 0.7216 - val_loss: 0.5463 - val_accuracy: 0.7314\n",
      "Epoch 13/50\n",
      "100/100 [==============================] - 0s 2ms/step - loss: 0.5408 - accuracy: 0.7228 - val_loss: 0.5470 - val_accuracy: 0.7233\n",
      "Epoch 14/50\n",
      "100/100 [==============================] - 0s 2ms/step - loss: 0.5397 - accuracy: 0.7261 - val_loss: 0.5500 - val_accuracy: 0.7287\n",
      "Epoch 15/50\n",
      "100/100 [==============================] - 0s 2ms/step - loss: 0.5392 - accuracy: 0.7259 - val_loss: 0.5453 - val_accuracy: 0.7220\n",
      "Epoch 16/50\n",
      "100/100 [==============================] - 0s 2ms/step - loss: 0.5391 - accuracy: 0.7266 - val_loss: 0.5476 - val_accuracy: 0.7247\n",
      "Epoch 17/50\n",
      "100/100 [==============================] - 0s 2ms/step - loss: 0.5418 - accuracy: 0.7228 - val_loss: 0.5451 - val_accuracy: 0.7301\n",
      "Epoch 18/50\n",
      "100/100 [==============================] - 0s 2ms/step - loss: 0.5385 - accuracy: 0.7212 - val_loss: 0.5460 - val_accuracy: 0.7308\n",
      "Epoch 19/50\n",
      "100/100 [==============================] - 0s 2ms/step - loss: 0.5381 - accuracy: 0.7212 - val_loss: 0.5483 - val_accuracy: 0.7281\n",
      "Epoch 20/50\n",
      "100/100 [==============================] - 0s 2ms/step - loss: 0.5384 - accuracy: 0.7223 - val_loss: 0.5550 - val_accuracy: 0.7186\n",
      "Epoch 21/50\n",
      "100/100 [==============================] - 0s 2ms/step - loss: 0.5368 - accuracy: 0.7255 - val_loss: 0.5463 - val_accuracy: 0.7233\n",
      "Epoch 22/50\n",
      " 78/100 [======================>.......] - ETA: 0s - loss: 0.5420 - accuracy: 0.7185"
     ]
    }
   ],
   "source": [
    "tf_model.fit(trainX, trainy, validation_data=(testX, testy), epochs=50, batch_size=64)"
   ]
  }
 ],
 "metadata": {
  "kernelspec": {
   "display_name": "Python 3 (ipykernel)",
   "language": "python",
   "name": "python3"
  },
  "language_info": {
   "codemirror_mode": {
    "name": "ipython",
    "version": 3
   },
   "file_extension": ".py",
   "mimetype": "text/x-python",
   "name": "python",
   "nbconvert_exporter": "python",
   "pygments_lexer": "ipython3",
   "version": "3.10.6"
  }
 },
 "nbformat": 4,
 "nbformat_minor": 5
}
